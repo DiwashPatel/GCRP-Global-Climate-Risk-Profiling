{
  "cells": [
    {
      "cell_type": "code",
      "execution_count": 247,
      "metadata": {
        "colab": {
          "base_uri": "https://localhost:8080/"
        },
        "id": "RUg6ZGloxmMa",
        "outputId": "f4421679-77fc-4df2-8657-c04a5ce08b50"
      },
      "outputs": [],
      "source": [
        "# Check if running in Google Colab\n",
        "if 'google.colab' in str(get_ipython()):\n",
        "    from google.colab import drive\n",
        "    drive.mount('/content/drive')\n",
        "\n",
        "    # Define the base path for your data directory for Colab\n",
        "    basePath = '/content/drive/MyDrive'\n",
        "\n",
        "else:\n",
        "    # Running locally or in a different environment\n",
        "    basePath = '..'"
      ]
    },
    {
      "cell_type": "code",
      "execution_count": 248,
      "metadata": {
        "id": "meKMl0HZ2POP"
      },
      "outputs": [],
      "source": [
        "import pandas as pd\n",
        "import numpy as np\n",
        "import matplotlib.pyplot as plt\n",
        "import seaborn as sns\n",
        "import joblib\n",
        "import os\n",
        "from statsmodels.tsa.arima.model import ARIMA\n",
        "from sklearn.metrics import mean_squared_error, mean_absolute_error\n",
        "import math"
      ]
    },
    {
      "cell_type": "code",
      "execution_count": 249,
      "metadata": {
        "id": "to7WQDYg2QY2"
      },
      "outputs": [],
      "source": [
        "df = pd.read_csv(f'{basePath}/data/processed/grouped_data2.csv')\n",
        "only_req_cols = ['COUNTRY', 'DATE', 'TAVG', 'TMIN', 'TMAX', 'PRCP']\n",
        "trimmed_df = df[only_req_cols].to_csv(f'{basePath}/data/processed/trimmedData.csv')"
      ]
    },
    {
      "cell_type": "markdown",
      "metadata": {
        "id": "gnQQGYpi2Zty"
      },
      "source": [
        "###**Essential Fns**"
      ]
    },
    {
      "cell_type": "code",
      "execution_count": 250,
      "metadata": {
        "id": "ztIg17372Qcc"
      },
      "outputs": [],
      "source": [
        "def filter_and_select_data(df, column_name, start_year):\n",
        "    \"\"\"Selects columns and filters data from a starting year.\"\"\"\n",
        "    selected_columns = ['COUNTRY', 'DATE', column_name]\n",
        "    df_filtered = df[selected_columns].copy()\n",
        "    return df_filtered[df_filtered['DATE'] >= start_year]"
      ]
    },
    {
      "cell_type": "code",
      "execution_count": 251,
      "metadata": {
        "id": "UItR3e-z2Qfr"
      },
      "outputs": [],
      "source": [
        "def get_sufficient_countries(df, column_name, completeness_threshold):\n",
        "    \"\"\"Returns a list of countries with data completeness >= a given threshold.\"\"\"\n",
        "    completeness = df.groupby('COUNTRY')[column_name].apply(lambda x: x.count() / len(x))\n",
        "    return completeness[completeness >= completeness_threshold].index.tolist()"
      ]
    },
    {
      "cell_type": "code",
      "execution_count": 252,
      "metadata": {
        "id": "59qOUBl82Qj5"
      },
      "outputs": [],
      "source": [
        "def split_data_by_year(df, train_end_year):\n",
        "    \"\"\"Splits a DataFrame into training and testing sets based on year.\"\"\"\n",
        "    df_train = df[df['DATE'] <= train_end_year].copy()\n",
        "    df_test = df[df['DATE'] > train_end_year].copy()\n",
        "    return df_train, df_test"
      ]
    },
    {
      "cell_type": "code",
      "execution_count": 253,
      "metadata": {
        "id": "QCW6imkB2Qn3"
      },
      "outputs": [],
      "source": [
        "def handle_missing_values(df, column_name):\n",
        "    \"\"\"Fills missing values in a DataFrame column using a sequence of\n",
        "    interpolation, backfill, and forward fill, grouped by country.\n",
        "    \"\"\"\n",
        "    df[column_name] = df.groupby('COUNTRY')[column_name].transform(lambda x: x.interpolate())\n",
        "    df[column_name] = df.groupby('COUNTRY')[column_name].transform(lambda x: x.bfill())\n",
        "    df[column_name] = df.groupby('COUNTRY')[column_name].transform(lambda x: x.ffill())\n",
        "    return df"
      ]
    },
    {
      "cell_type": "code",
      "execution_count": 254,
      "metadata": {
        "id": "y_fpQ6HY2Qr6"
      },
      "outputs": [],
      "source": [
        "def ensure_consecutive_years(df, column_name, start_year, end_year):\n",
        "    \"\"\"\n",
        "    Ensures a DataFrame has a complete time series of years for each country\n",
        "    up to a specified end_year. Fills in missing years and interpolates data.\n",
        "    \"\"\"\n",
        "    processed_dfs = []\n",
        "    unique_countries = df['COUNTRY'].unique()\n",
        "    for country in unique_countries:\n",
        "        country_data = df[df['COUNTRY'] == country]\n",
        "\n",
        "        all_years = list(range(start_year, end_year + 1))\n",
        "        country_years_df = pd.DataFrame({'COUNTRY': country, 'DATE': all_years})\n",
        "\n",
        "        merged_country_df = pd.merge(country_years_df, country_data, on=['COUNTRY', 'DATE'], how='left')\n",
        "        merged_country_df[column_name] = merged_country_df[column_name].interpolate(limit_direction='both')\n",
        "        processed_dfs.append(merged_country_df)\n",
        "\n",
        "    return pd.concat(processed_dfs, ignore_index=True)"
      ]
    },
    {
      "cell_type": "code",
      "execution_count": 255,
      "metadata": {
        "id": "2gFc5-8n4zlN"
      },
      "outputs": [],
      "source": [
        "def filter_by_common_countries(df_train, df_test, column_name):\n",
        "    \"\"\"\n",
        "    Finds countries with at least one non-missing value in both training and\n",
        "    testing DataFrames and filters both to include only those countries.\n",
        "\n",
        "    Returns:\n",
        "        tuple: A tuple containing the filtered training and testing DataFrames.\n",
        "    \"\"\"\n",
        "    # Find countries in training data with at least one non-missing value\n",
        "    countries_with_train_data = df_train.dropna(subset=[column_name])['COUNTRY'].unique()\n",
        "\n",
        "    # Find countries in testing data with at least one non-missing value\n",
        "    countries_with_test_data = df_test.dropna(subset=[column_name])['COUNTRY'].unique()\n",
        "\n",
        "    # Find the intersection of these two lists\n",
        "    common_countries = set(countries_with_train_data).intersection(set(countries_with_test_data))\n",
        "\n",
        "    df_train_filtered = df_train[df_train['COUNTRY'].isin(common_countries)].copy()\n",
        "    df_test_filtered = df_test[df_test['COUNTRY'].isin(common_countries)].copy()\n",
        "\n",
        "    return df_train_filtered, df_test_filtered"
      ]
    },
    {
      "cell_type": "code",
      "execution_count": 256,
      "metadata": {
        "id": "i9B1-gPs3T8S"
      },
      "outputs": [],
      "source": [
        "def prepare_column_data_pipeline(df, column_name, start_year=1980, train_end_year=2010, completeness_threshold=0.8):\n",
        "    \"\"\"\n",
        "    Main pipeline function to prepare and clean time series data for a specific column.\n",
        "    \"\"\"\n",
        "    # Step 1: Filter and select data\n",
        "    df_filtered = filter_and_select_data(df, column_name, start_year)\n",
        "\n",
        "    # Step 2: Get a list of countries with sufficient data\n",
        "    sufficient_countries = get_sufficient_countries(df_filtered, column_name, completeness_threshold)\n",
        "    df_filtered = df_filtered[df_filtered['COUNTRY'].isin(sufficient_countries)].copy()\n",
        "\n",
        "    # Step 3: Split into training and testing sets\n",
        "    df_train, df_test = split_data_by_year(df_filtered, train_end_year)\n",
        "\n",
        "    #Adding just to check::::\n",
        "    df_train = ensure_consecutive_years(df_train, column_name, start_year = start_year, end_year = train_end_year)\n",
        "    df_test = ensure_consecutive_years(df_test, column_name, train_end_year + 1, 2025)\n",
        "\n",
        "    # Step 4: Handle missing values in both sets\n",
        "    df_train = handle_missing_values(df_train, column_name)\n",
        "    df_test = handle_missing_values(df_test, column_name)\n",
        "\n",
        "    # Step 5: Find and filter for common countries (with non-missing data)\n",
        "    # This is the corrected line\n",
        "    df_train, df_test = filter_by_common_countries(df_train, df_test, column_name)\n",
        "\n",
        "    # Step 6: Ensure a complete, consecutive time series\n",
        "    df_train_completed = ensure_consecutive_years(df_train, column_name, start_year=start_year, end_year=train_end_year)\n",
        "    df_test_completed = ensure_consecutive_years(df_test, column_name, train_end_year + 1, 2025)\n",
        "\n",
        "    return df_train_completed, df_test_completed"
      ]
    },
    {
      "cell_type": "markdown",
      "metadata": {},
      "source": [
        "###**Training Stuff**"
      ]
    },
    {
      "cell_type": "code",
      "execution_count": 257,
      "metadata": {
        "id": "AkOjm8cm-Tyo"
      },
      "outputs": [],
      "source": [
        "def find_best_arima_order(time_series, arima_orders):\n",
        "    \"\"\"\n",
        "    Finds the best ARIMA model order for a single time series based on AIC.\n",
        "\n",
        "    Args:\n",
        "        time_series (pd.Series): The time series data for a single country.\n",
        "        arima_orders (list of tuples): A list of (p, d, q) orders to test.\n",
        "\n",
        "    Returns:\n",
        "        tuple: A tuple containing the best model fit object and its order.\n",
        "               Returns (None, None) if no model can be fitted.\n",
        "    \"\"\"\n",
        "    best_aic = np.inf\n",
        "    best_order = None\n",
        "    best_model_fit = None\n",
        "\n",
        "    for order in arima_orders:\n",
        "        try:\n",
        "            model = ARIMA(time_series, order=order, freq='YS')\n",
        "            model_fit = model.fit()\n",
        "\n",
        "            # Get the AIC\n",
        "            aic = model_fit.aic\n",
        "\n",
        "            # Update best AIC and order if current model is better\n",
        "            if aic < best_aic:\n",
        "                best_aic = aic\n",
        "                best_order = order\n",
        "                best_model_fit = model_fit\n",
        "                print(f\"  Order: {order}, AIC: {aic}\")\n",
        "\n",
        "        except Exception as e:\n",
        "            continue\n",
        "\n",
        "    return best_model_fit, best_order"
      ]
    },
    {
      "cell_type": "code",
      "execution_count": 258,
      "metadata": {
        "id": "eJyABx3K-UBS"
      },
      "outputs": [],
      "source": [
        "def train_models_for_countries(df, column_name, arima_orders):\n",
        "    \"\"\"\n",
        "    Trains the best ARIMA model for each country in the DataFrame.\n",
        "\n",
        "    Args:\n",
        "        df (pd.DataFrame): The input DataFrame containing country data.\n",
        "        column_name (str): The column containing the time series data.\n",
        "        arima_orders (list of tuples): A list of (p, d, q) orders to test.\n",
        "\n",
        "    Returns:\n",
        "        dict: A dictionary where keys are country names and values are dictionaries\n",
        "              containing the 'best_model' object and its 'best_order' and 'best_aic'.\n",
        "    \"\"\"\n",
        "    best_arima_models = {}\n",
        "    unique_countries = df['COUNTRY'].unique()\n",
        "\n",
        "    for country in unique_countries:\n",
        "        # Filter data for the current country\n",
        "        country_data = df[df['COUNTRY'] == country]\n",
        "\n",
        "        # Set the 'DATE' column as the index and convert it to a DatetimeIndex\n",
        "        time_series = country_data.set_index(pd.to_datetime(country_data['DATE'], format='%Y'))[column_name]\n",
        "\n",
        "        # Use the dedicated function to find the best model for this country\n",
        "        best_model, best_order = find_best_arima_order(time_series, arima_orders)\n",
        "\n",
        "        # Store the best model and its details\n",
        "        if best_model is not None:\n",
        "            best_arima_models[country] = {\n",
        "                'best_model': best_model,\n",
        "                'best_order': best_order,\n",
        "                'best_aic': best_model.aic\n",
        "            }\n",
        "        else:\n",
        "            print(f\"Warning: No best model found for {country}. Skipping.\")\n",
        "\n",
        "    return best_arima_models"
      ]
    },
    {
      "cell_type": "code",
      "execution_count": 259,
      "metadata": {
        "id": "bQN7USzBOav5"
      },
      "outputs": [],
      "source": [
        "def save_trained_models(models_dict, models_dir):\n",
        "    \"\"\"\n",
        "    Saves a dictionary of trained models to individual files in a specified directory.\n",
        "\n",
        "    #Most probably:\n",
        "    Args:\n",
        "        models_dict (dict): A dictionary of trained model objects. Keys are country names.\n",
        "                            Values should contain the model object under the 'best_model' key.\n",
        "        models_dir (str): The directory path where the models should be saved.\n",
        "    \"\"\"\n",
        "    \n",
        "    if not os.path.exists(models_dir):\n",
        "        os.makedirs(models_dir)\n",
        "\n",
        "    for country, model_info in models_dict.items():\n",
        "        best_model = model_info.get('best_model')\n",
        "\n",
        "        if best_model is not None:\n",
        "            # Create a filename by replacing spaces with underscores\n",
        "            # sanitized_country_name = sanitize_country_name(country)\n",
        "            sanitized_country_name = country\n",
        "            filename = f\"{sanitized_country_name}_arima_model.joblib\"\n",
        "            filepath = os.path.join(models_dir, filename)\n",
        "\n",
        "            joblib.dump(best_model, filepath)\n",
        "        else:\n",
        "            print(f\"Warning: No model found for {country}, skipping save.\")"
      ]
    },
    {
      "cell_type": "markdown",
      "metadata": {
        "id": "GMWr_wauBtp3"
      },
      "source": [
        "###**Prediction and Errors**"
      ]
    },
    {
      "cell_type": "code",
      "execution_count": 260,
      "metadata": {
        "id": "wBAx5lTVOzK4"
      },
      "outputs": [],
      "source": [
        "def load_trained_models(models_dir):\n",
        "    \"\"\"\n",
        "    Loads all trained ARIMA model objects from a specified directory.\n",
        "    \"\"\"\n",
        "    loaded_models = {}\n",
        "\n",
        "    if not os.path.exists(models_dir):\n",
        "        print(f\"Directory not found: {models_dir}\")\n",
        "        return loaded_models\n",
        "\n",
        "    for filename in os.listdir(models_dir):\n",
        "        if filename.endswith('_arima_model.joblib'):\n",
        "            filepath = os.path.join(models_dir, filename)\n",
        "            try:\n",
        "                # The key in our dictionary will be the sanitized name\n",
        "                sanitized_country_name = filename.replace('_arima_model.joblib', '')\n",
        "\n",
        "                model = joblib.load(filepath)\n",
        "                loaded_models[sanitized_country_name] = model\n",
        "            except Exception as e:\n",
        "                print(f\"Warning: Could not load model from {filepath}. Error: {e}\")\n",
        "\n",
        "    if not loaded_models:\n",
        "        print(f\"No models found in directory: {models_dir}\")\n",
        "    else:\n",
        "        print(f\"Successfully loaded {len(loaded_models)} models.\")\n",
        "\n",
        "    return loaded_models"
      ]
    },
    {
      "cell_type": "code",
      "execution_count": 261,
      "metadata": {
        "id": "sGzHXIirD5Nr"
      },
      "outputs": [],
      "source": [
        "def predict_single_country(model_fit, n_forecast_steps: int = 10):\n",
        "    \"\"\"\n",
        "    Makes a prediction for a specified number of future steps using a trained ARIMA model.\n",
        "\n",
        "    Args:\n",
        "        model_fit (SARIMAXResultsWrapper): The fitted ARIMA model object.\n",
        "        n_forecast_steps (int): The number of time steps (e.g., years) to forecast into the future.\n",
        "\n",
        "    Returns:\n",
        "        pd.Series: A pandas Series containing the forecasted values.\n",
        "                   The index of the Series will be the corresponding years.\n",
        "                   Returns None if an error occurs.\n",
        "    \"\"\"\n",
        "    try:\n",
        "        # Use the get_forecast method to predict\n",
        "        # This method is more robust than predict() for out-of-sample forecasting\n",
        "        forecast_result = model_fit.get_forecast(steps=n_forecast_steps)\n",
        "        \n",
        "        # The predicted_mean attribute gives the forecasted values as a pandas Series\n",
        "        predictions = forecast_result.predicted_mean\n",
        "        \n",
        "        return predictions\n",
        "        \n",
        "    except Exception as e:\n",
        "        print(f\"An error occurred during prediction: {e}\")\n",
        "        return None"
      ]
    },
    {
      "cell_type": "code",
      "execution_count": 262,
      "metadata": {
        "id": "YOwuV0fmDAxg"
      },
      "outputs": [],
      "source": [
        "def evaluate_single_country(actual_data, predictions):\n",
        "    \"\"\"\n",
        "    Calculates key error metrics for a single country's predictions.\n",
        "\n",
        "    Args:\n",
        "        actual_data (pd.Series): The actual time series data.\n",
        "        predictions (pd.Series): The predicted time series data.\n",
        "\n",
        "    Returns:\n",
        "        dict: A dictionary of calculated error metrics (MSE, RMSE, MAE).\n",
        "    \"\"\"\n",
        "    mse = mean_squared_error(actual_data, predictions)\n",
        "    rmse = math.sqrt(mse)\n",
        "    mae = mean_absolute_error(actual_data, predictions)\n",
        "\n",
        "    return {'MSE': mse, 'RMSE': rmse, 'MAE': mae}"
      ]
    },
    {
      "cell_type": "code",
      "execution_count": 263,
      "metadata": {
        "id": "2rxKiyMdELM7"
      },
      "outputs": [],
      "source": [
        "def predict_and_evaluate_all_models(models_dir, df_test, column_name):\n",
        "    \"\"\"\n",
        "    Orchestrates the prediction and evaluation process for all countries.\n",
        "\n",
        "    Args:\n",
        "        models_dir (str): The directory containing the saved trained models.\n",
        "        df_test (pd.DataFrame): The cleaned DataFrame with testing data.\n",
        "        column_name (str): The name of the column to predict.\n",
        "\n",
        "    Returns:\n",
        "        dict: A dictionary where keys are country names and values are their\n",
        "              calculated error metrics.\n",
        "    \"\"\"\n",
        "    all_country_errors = {}\n",
        "\n",
        "    # Load the models using our modular function\n",
        "    loaded_models = load_trained_models(models_dir)\n",
        "\n",
        "    if not loaded_models:\n",
        "        print(\"No models were loaded. Cannot proceed with prediction.\")\n",
        "        return all_country_errors\n",
        "\n",
        "    print(\"\\nStarting prediction and evaluation...\")\n",
        "\n",
        "    # Loop through each country for which we have a trained model\n",
        "    for country, model in loaded_models.items():\n",
        "        # sanitized_country_name = sanitize_country_name(country)\n",
        "\n",
        "        # if sanitized_country_name not in loaded_models:\n",
        "        #     print(f\"Skipping {country}: No model found for sanitized name '{sanitized_country_name}'.\")\n",
        "        #     continue\n",
        "\n",
        "        # Get actual data for this country from the test set\n",
        "        country_test_data = df_test[df_test['COUNTRY'] == country].copy()\n",
        "\n",
        "        # Ensure the test data has a proper DatetimeIndex for alignment\n",
        "        country_test_data.set_index(pd.to_datetime(country_test_data['DATE'], format='%Y'), inplace=True)\n",
        "        actual_data = country_test_data[column_name]\n",
        "\n",
        "        # Get the start and end years for prediction from the actual data\n",
        "        start_year = actual_data.index.min().year\n",
        "        end_year = actual_data.index.max().year\n",
        "\n",
        "        try:\n",
        "            # Use our modular function to make predictions\n",
        "            predictions = predict_single_country(model, n_forecast_steps=15)\n",
        "\n",
        "            print(f\"INSIDE predict_and_evaluate_fn\")\n",
        "            print(f\"PReditctions for {country} is {predictions}\")\n",
        "\n",
        "            # Use our modular function to evaluate the predictions\n",
        "            errors = evaluate_single_country(actual_data, predictions)\n",
        "\n",
        "            all_country_errors[country] = errors\n",
        "            print(f\"Processed {country}: RMSE = {errors['RMSE']:.2f}, MAE = {errors['MAE']:.2f}\")\n",
        "\n",
        "        except Exception as e:\n",
        "            print(f\"Error processing {country}: {e}\")\n",
        "\n",
        "    print(\"\\nPrediction and evaluation complete.\")\n",
        "    return all_country_errors"
      ]
    },
    {
      "cell_type": "markdown",
      "metadata": {
        "id": "mynF4lrKUa7X"
      },
      "source": [
        "###**Combining Testing and Training for FINAL training**"
      ]
    },
    {
      "cell_type": "code",
      "execution_count": 264,
      "metadata": {
        "id": "p4NtsNm-UeIK"
      },
      "outputs": [],
      "source": [
        "def combine_data_for_final_training(df_train, df_test):\n",
        "    \"\"\"\n",
        "    Combines the cleaned training and testing DataFrames into a single DataFrame,\n",
        "    and sorts the result for clean time series analysis.\n",
        "\n",
        "    Args:\n",
        "        df_train (pd.DataFrame): The cleaned DataFrame with training data.\n",
        "        df_test (pd.DataFrame): The cleaned DataFrame with testing data.\n",
        "\n",
        "    Returns:\n",
        "        pd.DataFrame: A single DataFrame containing data from both periods,\n",
        "                      sorted by country and date.\n",
        "    \"\"\"\n",
        "    df_combined = pd.concat([df_train, df_test], ignore_index=True)\n",
        "\n",
        "    # Sort the data by country and then by date for a clean, final product\n",
        "    df_combined_sorted = df_combined.sort_values(by=['COUNTRY', 'DATE']).reset_index(drop=True)\n",
        "\n",
        "    df_combined_sorted.set_index(pd.to_datetime(df_combined_sorted['DATE'], format='%Y'), inplace=True)\n",
        "    \n",
        "    return df_combined_sorted"
      ]
    },
    {
      "cell_type": "code",
      "execution_count": 265,
      "metadata": {
        "id": "ztUUgbOJUmUF"
      },
      "outputs": [],
      "source": [
        "def train_final_models(df_combined, column_name, arima_orders):\n",
        "    \"\"\"\n",
        "    Trains the final ARIMA models on the complete dataset for each country.\n",
        "\n",
        "    This function reuses our verified training function.\n",
        "\n",
        "    Args:\n",
        "        df_combined (pd.DataFrame): The DataFrame containing the complete time series data.\n",
        "        column_name (str): The column containing the time series data.\n",
        "        arima_orders (list of tuples): A list of (p, d, q) orders to test.\n",
        "\n",
        "    Returns:\n",
        "        dict: A dictionary of final trained models for each country.\n",
        "    \"\"\"\n",
        "    print(f\"Starting final model training for column: {column_name}\")\n",
        "    final_models = train_models_for_countries(df_combined, column_name, arima_orders)\n",
        "    print(\"Final model training complete.\")\n",
        "    return final_models"
      ]
    },
    {
      "cell_type": "code",
      "execution_count": 266,
      "metadata": {},
      "outputs": [],
      "source": [
        "def make_predictions(models_dir, df_combined, column_name, number_of_years: int = 10):\n",
        "    \"\"\"\n",
        "    Args:\n",
        "        models_dir (str): The directory containing the saved trained models. For our case it will be the same as above as \n",
        "        it overwrites when training on the large dataset..\n",
        "        .....\n",
        "        .....\n",
        "    \"\"\"\n",
        "    all_predicted_dfs = {}\n",
        "\n",
        "    loaded_models = load_trained_models(models_dir)\n",
        "\n",
        "    if not loaded_models:\n",
        "        print(\"No models were loaded. Cannot proceed with predictions.\")\n",
        "        return all_predicted_dfs\n",
        "\n",
        "    print(f\"\\nStarting Predictions\")\n",
        "\n",
        "    # Loop through each country for which we have a trained model\n",
        "    for country, model in loaded_models.items():\n",
        "\n",
        "        # country_test_data = df_combined[df_combined['COUNTRY'] == country].copy()\n",
        "\n",
        "        # # Ensure the test data has a proper DatetimeIndex for alignment\n",
        "        # country_test_data.set_index(pd.to_datetime(country_test_data['DATE'], format='%Y'), inplace=True)\n",
        "\n",
        "        try:\n",
        "            # Use our modular function to make predictions\n",
        "            predictions = predict_single_country(model, n_forecast_steps=number_of_years)\n",
        "\n",
        "            print(f\"INSIDE \\n\\n\\n predict fn\")\n",
        "            print(f\"PReditctions for {country} is {predictions}\")\n",
        "\n",
        "            if predictions is not None:\n",
        "                all_predicted_dfs[country] = predictions\n",
        "\n",
        "        except Exception as e:\n",
        "            print(f\"Error processing {country}: {e}\")\n",
        "\n",
        "    print(\"\\nPrediction complete.\")\n",
        "    return all_predicted_dfs"
      ]
    },
    {
      "cell_type": "code",
      "execution_count": 267,
      "metadata": {},
      "outputs": [
        {
          "name": "stderr",
          "output_type": "stream",
          "text": [
            "/work/projects/gcrp/.venv/lib/python3.12/site-packages/statsmodels/tsa/base/tsa_model.py:473: ValueWarning: No frequency information was provided, so inferred frequency YS-JAN will be used.\n",
            "  self._init_dates(dates, freq)\n"
          ]
        },
        {
          "name": "stdout",
          "output_type": "stream",
          "text": [
            "  Order: (1, 0, 0), AIC: 41.73681201623895\n"
          ]
        },
        {
          "name": "stderr",
          "output_type": "stream",
          "text": [
            "/work/projects/gcrp/.venv/lib/python3.12/site-packages/statsmodels/tsa/base/tsa_model.py:473: ValueWarning: No frequency information was provided, so inferred frequency YS-JAN will be used.\n",
            "  self._init_dates(dates, freq)\n"
          ]
        },
        {
          "name": "stdout",
          "output_type": "stream",
          "text": [
            "  Order: (1, 1, 1), AIC: 35.3591108367197\n"
          ]
        },
        {
          "name": "stderr",
          "output_type": "stream",
          "text": [
            "/work/projects/gcrp/.venv/lib/python3.12/site-packages/statsmodels/tsa/base/tsa_model.py:473: ValueWarning: No frequency information was provided, so inferred frequency YS-JAN will be used.\n",
            "  self._init_dates(dates, freq)\n"
          ]
        },
        {
          "name": "stdout",
          "output_type": "stream",
          "text": [
            "  Order: (1, 0, 0), AIC: 155.21525101953569\n"
          ]
        },
        {
          "name": "stderr",
          "output_type": "stream",
          "text": [
            "/work/projects/gcrp/.venv/lib/python3.12/site-packages/statsmodels/tsa/base/tsa_model.py:473: ValueWarning: No frequency information was provided, so inferred frequency YS-JAN will be used.\n",
            "  self._init_dates(dates, freq)\n"
          ]
        },
        {
          "name": "stdout",
          "output_type": "stream",
          "text": [
            "  Order: (1, 1, 1), AIC: 144.2628724422125\n"
          ]
        },
        {
          "name": "stderr",
          "output_type": "stream",
          "text": [
            "/work/projects/gcrp/.venv/lib/python3.12/site-packages/statsmodels/tsa/base/tsa_model.py:473: ValueWarning: No frequency information was provided, so inferred frequency YS-JAN will be used.\n",
            "  self._init_dates(dates, freq)\n"
          ]
        },
        {
          "name": "stdout",
          "output_type": "stream",
          "text": [
            "  Order: (1, 0, 0), AIC: 29.55476966081685\n"
          ]
        },
        {
          "name": "stderr",
          "output_type": "stream",
          "text": [
            "/work/projects/gcrp/.venv/lib/python3.12/site-packages/statsmodels/tsa/base/tsa_model.py:473: ValueWarning: No frequency information was provided, so inferred frequency YS-JAN will be used.\n",
            "  self._init_dates(dates, freq)\n",
            "/work/projects/gcrp/.venv/lib/python3.12/site-packages/statsmodels/tsa/base/tsa_model.py:473: ValueWarning: No frequency information was provided, so inferred frequency YS-JAN will be used.\n",
            "  self._init_dates(dates, freq)\n",
            "/work/projects/gcrp/.venv/lib/python3.12/site-packages/statsmodels/tsa/base/tsa_model.py:473: ValueWarning: No frequency information was provided, so inferred frequency YS-JAN will be used.\n",
            "  self._init_dates(dates, freq)\n"
          ]
        },
        {
          "name": "stdout",
          "output_type": "stream",
          "text": [
            "  Order: (1, 0, 0), AIC: 92.61848760264718\n"
          ]
        },
        {
          "name": "stderr",
          "output_type": "stream",
          "text": [
            "/work/projects/gcrp/.venv/lib/python3.12/site-packages/statsmodels/tsa/base/tsa_model.py:473: ValueWarning: No frequency information was provided, so inferred frequency YS-JAN will be used.\n",
            "  self._init_dates(dates, freq)\n"
          ]
        },
        {
          "name": "stdout",
          "output_type": "stream",
          "text": [
            "  Order: (1, 0, 0), AIC: 99.91519526885268\n"
          ]
        },
        {
          "name": "stderr",
          "output_type": "stream",
          "text": [
            "/work/projects/gcrp/.venv/lib/python3.12/site-packages/statsmodels/tsa/base/tsa_model.py:473: ValueWarning: No frequency information was provided, so inferred frequency YS-JAN will be used.\n",
            "  self._init_dates(dates, freq)\n",
            "/work/projects/gcrp/.venv/lib/python3.12/site-packages/statsmodels/tsa/statespace/sarimax.py:978: UserWarning: Non-invertible starting MA parameters found. Using zeros as starting parameters.\n",
            "  warn('Non-invertible starting MA parameters found.'\n"
          ]
        },
        {
          "name": "stdout",
          "output_type": "stream",
          "text": [
            "  Order: (1, 1, 1), AIC: 99.58509657630998\n"
          ]
        },
        {
          "name": "stderr",
          "output_type": "stream",
          "text": [
            "/work/projects/gcrp/.venv/lib/python3.12/site-packages/statsmodels/tsa/base/tsa_model.py:473: ValueWarning: No frequency information was provided, so inferred frequency YS-JAN will be used.\n",
            "  self._init_dates(dates, freq)\n"
          ]
        },
        {
          "name": "stdout",
          "output_type": "stream",
          "text": [
            "  Order: (1, 0, 0), AIC: 28.538430153800082\n"
          ]
        },
        {
          "name": "stderr",
          "output_type": "stream",
          "text": [
            "/work/projects/gcrp/.venv/lib/python3.12/site-packages/statsmodels/tsa/base/tsa_model.py:473: ValueWarning: No frequency information was provided, so inferred frequency YS-JAN will be used.\n",
            "  self._init_dates(dates, freq)\n"
          ]
        },
        {
          "name": "stdout",
          "output_type": "stream",
          "text": [
            "  Order: (1, 1, 1), AIC: 24.448297041367976\n"
          ]
        },
        {
          "name": "stderr",
          "output_type": "stream",
          "text": [
            "/work/projects/gcrp/.venv/lib/python3.12/site-packages/statsmodels/tsa/base/tsa_model.py:473: ValueWarning: No frequency information was provided, so inferred frequency YS-JAN will be used.\n",
            "  self._init_dates(dates, freq)\n",
            "/work/projects/gcrp/.venv/lib/python3.12/site-packages/statsmodels/tsa/base/tsa_model.py:473: ValueWarning: No frequency information was provided, so inferred frequency YS-JAN will be used.\n",
            "  self._init_dates(dates, freq)\n"
          ]
        },
        {
          "name": "stdout",
          "output_type": "stream",
          "text": [
            "  Order: (1, 0, 0), AIC: 72.83214283160525\n",
            "  Order: (1, 1, 1), AIC: 70.59432253201801\n"
          ]
        },
        {
          "name": "stderr",
          "output_type": "stream",
          "text": [
            "/work/projects/gcrp/.venv/lib/python3.12/site-packages/statsmodels/tsa/base/tsa_model.py:473: ValueWarning: No frequency information was provided, so inferred frequency YS-JAN will be used.\n",
            "  self._init_dates(dates, freq)\n"
          ]
        },
        {
          "name": "stdout",
          "output_type": "stream",
          "text": [
            "  Order: (1, 0, 0), AIC: 50.04542352567869\n"
          ]
        },
        {
          "name": "stderr",
          "output_type": "stream",
          "text": [
            "/work/projects/gcrp/.venv/lib/python3.12/site-packages/statsmodels/tsa/base/tsa_model.py:473: ValueWarning: No frequency information was provided, so inferred frequency YS-JAN will be used.\n",
            "  self._init_dates(dates, freq)\n"
          ]
        },
        {
          "name": "stdout",
          "output_type": "stream",
          "text": [
            "  Order: (1, 1, 1), AIC: 44.80325094975927\n",
            "  Order: (1, 0, 0), AIC: 86.31504417102755\n"
          ]
        },
        {
          "name": "stderr",
          "output_type": "stream",
          "text": [
            "/work/projects/gcrp/.venv/lib/python3.12/site-packages/statsmodels/tsa/base/tsa_model.py:473: ValueWarning: No frequency information was provided, so inferred frequency YS-JAN will be used.\n",
            "  self._init_dates(dates, freq)\n",
            "/work/projects/gcrp/.venv/lib/python3.12/site-packages/statsmodels/tsa/base/tsa_model.py:473: ValueWarning: No frequency information was provided, so inferred frequency YS-JAN will be used.\n",
            "  self._init_dates(dates, freq)\n",
            "/work/projects/gcrp/.venv/lib/python3.12/site-packages/statsmodels/tsa/base/tsa_model.py:473: ValueWarning: No frequency information was provided, so inferred frequency YS-JAN will be used.\n",
            "  self._init_dates(dates, freq)\n",
            "/work/projects/gcrp/.venv/lib/python3.12/site-packages/statsmodels/tsa/base/tsa_model.py:473: ValueWarning: No frequency information was provided, so inferred frequency YS-JAN will be used.\n",
            "  self._init_dates(dates, freq)\n"
          ]
        },
        {
          "name": "stdout",
          "output_type": "stream",
          "text": [
            "  Order: (1, 0, 0), AIC: 1.7827763808590689\n"
          ]
        },
        {
          "name": "stderr",
          "output_type": "stream",
          "text": [
            "/work/projects/gcrp/.venv/lib/python3.12/site-packages/statsmodels/tsa/base/tsa_model.py:473: ValueWarning: No frequency information was provided, so inferred frequency YS-JAN will be used.\n",
            "  self._init_dates(dates, freq)\n",
            "/work/projects/gcrp/.venv/lib/python3.12/site-packages/statsmodels/tsa/base/tsa_model.py:473: ValueWarning: No frequency information was provided, so inferred frequency YS-JAN will be used.\n",
            "  self._init_dates(dates, freq)\n"
          ]
        },
        {
          "name": "stdout",
          "output_type": "stream",
          "text": [
            "  Order: (1, 0, 0), AIC: 88.14926170922186\n",
            "  Order: (1, 1, 1), AIC: 87.68442861659247\n"
          ]
        },
        {
          "name": "stderr",
          "output_type": "stream",
          "text": [
            "/work/projects/gcrp/.venv/lib/python3.12/site-packages/statsmodels/tsa/base/tsa_model.py:473: ValueWarning: No frequency information was provided, so inferred frequency YS-JAN will be used.\n",
            "  self._init_dates(dates, freq)\n"
          ]
        },
        {
          "name": "stdout",
          "output_type": "stream",
          "text": [
            "  Order: (1, 0, 0), AIC: 71.14086802638523\n"
          ]
        },
        {
          "name": "stderr",
          "output_type": "stream",
          "text": [
            "/work/projects/gcrp/.venv/lib/python3.12/site-packages/statsmodels/tsa/base/tsa_model.py:473: ValueWarning: No frequency information was provided, so inferred frequency YS-JAN will be used.\n",
            "  self._init_dates(dates, freq)\n"
          ]
        },
        {
          "name": "stdout",
          "output_type": "stream",
          "text": [
            "  Order: (1, 1, 1), AIC: 67.76443027379098\n"
          ]
        },
        {
          "name": "stderr",
          "output_type": "stream",
          "text": [
            "/work/projects/gcrp/.venv/lib/python3.12/site-packages/statsmodels/tsa/base/tsa_model.py:473: ValueWarning: No frequency information was provided, so inferred frequency YS-JAN will be used.\n",
            "  self._init_dates(dates, freq)\n"
          ]
        },
        {
          "name": "stdout",
          "output_type": "stream",
          "text": [
            "  Order: (1, 0, 0), AIC: 73.68939886315349\n"
          ]
        },
        {
          "name": "stderr",
          "output_type": "stream",
          "text": [
            "/work/projects/gcrp/.venv/lib/python3.12/site-packages/statsmodels/tsa/base/tsa_model.py:473: ValueWarning: No frequency information was provided, so inferred frequency YS-JAN will be used.\n",
            "  self._init_dates(dates, freq)\n",
            "/work/projects/gcrp/.venv/lib/python3.12/site-packages/statsmodels/tsa/base/tsa_model.py:473: ValueWarning: No frequency information was provided, so inferred frequency YS-JAN will be used.\n",
            "  self._init_dates(dates, freq)\n",
            "/work/projects/gcrp/.venv/lib/python3.12/site-packages/statsmodels/tsa/base/tsa_model.py:473: ValueWarning: No frequency information was provided, so inferred frequency YS-JAN will be used.\n",
            "  self._init_dates(dates, freq)\n"
          ]
        },
        {
          "name": "stdout",
          "output_type": "stream",
          "text": [
            "  Order: (1, 0, 0), AIC: 131.53571519715072\n"
          ]
        },
        {
          "name": "stderr",
          "output_type": "stream",
          "text": [
            "/work/projects/gcrp/.venv/lib/python3.12/site-packages/statsmodels/tsa/base/tsa_model.py:473: ValueWarning: No frequency information was provided, so inferred frequency YS-JAN will be used.\n",
            "  self._init_dates(dates, freq)\n",
            "/work/projects/gcrp/.venv/lib/python3.12/site-packages/statsmodels/tsa/base/tsa_model.py:473: ValueWarning: No frequency information was provided, so inferred frequency YS-JAN will be used.\n",
            "  self._init_dates(dates, freq)\n"
          ]
        },
        {
          "name": "stdout",
          "output_type": "stream",
          "text": [
            "  Order: (1, 0, 0), AIC: -13.763892049092906\n"
          ]
        },
        {
          "name": "stderr",
          "output_type": "stream",
          "text": [
            "/work/projects/gcrp/.venv/lib/python3.12/site-packages/statsmodels/tsa/base/tsa_model.py:473: ValueWarning: No frequency information was provided, so inferred frequency YS-JAN will be used.\n",
            "  self._init_dates(dates, freq)\n",
            "/work/projects/gcrp/.venv/lib/python3.12/site-packages/statsmodels/tsa/base/tsa_model.py:473: ValueWarning: No frequency information was provided, so inferred frequency YS-JAN will be used.\n",
            "  self._init_dates(dates, freq)\n"
          ]
        },
        {
          "name": "stdout",
          "output_type": "stream",
          "text": [
            "  Order: (1, 0, 0), AIC: 77.49388031955432\n"
          ]
        },
        {
          "name": "stderr",
          "output_type": "stream",
          "text": [
            "/work/projects/gcrp/.venv/lib/python3.12/site-packages/statsmodels/tsa/base/tsa_model.py:473: ValueWarning: No frequency information was provided, so inferred frequency YS-JAN will be used.\n",
            "  self._init_dates(dates, freq)\n",
            "/work/projects/gcrp/.venv/lib/python3.12/site-packages/statsmodels/tsa/base/tsa_model.py:473: ValueWarning: No frequency information was provided, so inferred frequency YS-JAN will be used.\n",
            "  self._init_dates(dates, freq)\n"
          ]
        },
        {
          "name": "stdout",
          "output_type": "stream",
          "text": [
            "  Order: (1, 0, 0), AIC: 57.57063160087742\n",
            "  Order: (1, 1, 1), AIC: 52.47682162166616\n"
          ]
        },
        {
          "name": "stderr",
          "output_type": "stream",
          "text": [
            "/work/projects/gcrp/.venv/lib/python3.12/site-packages/statsmodels/tsa/base/tsa_model.py:473: ValueWarning: No frequency information was provided, so inferred frequency YS-JAN will be used.\n",
            "  self._init_dates(dates, freq)\n",
            "/work/projects/gcrp/.venv/lib/python3.12/site-packages/statsmodels/tsa/base/tsa_model.py:473: ValueWarning: No frequency information was provided, so inferred frequency YS-JAN will be used.\n",
            "  self._init_dates(dates, freq)\n"
          ]
        },
        {
          "name": "stdout",
          "output_type": "stream",
          "text": [
            "  Order: (1, 0, 0), AIC: 76.58616810728358\n",
            "  Order: (1, 1, 1), AIC: 73.02290945954164\n"
          ]
        },
        {
          "name": "stderr",
          "output_type": "stream",
          "text": [
            "/work/projects/gcrp/.venv/lib/python3.12/site-packages/statsmodels/tsa/base/tsa_model.py:473: ValueWarning: No frequency information was provided, so inferred frequency YS-JAN will be used.\n",
            "  self._init_dates(dates, freq)\n",
            "/work/projects/gcrp/.venv/lib/python3.12/site-packages/statsmodels/tsa/base/tsa_model.py:473: ValueWarning: No frequency information was provided, so inferred frequency YS-JAN will be used.\n",
            "  self._init_dates(dates, freq)\n",
            "/work/projects/gcrp/.venv/lib/python3.12/site-packages/statsmodels/tsa/statespace/sarimax.py:966: UserWarning: Non-stationary starting autoregressive parameters found. Using zeros as starting parameters.\n",
            "  warn('Non-stationary starting autoregressive parameters'\n",
            "/work/projects/gcrp/.venv/lib/python3.12/site-packages/statsmodels/tsa/statespace/sarimax.py:978: UserWarning: Non-invertible starting MA parameters found. Using zeros as starting parameters.\n",
            "  warn('Non-invertible starting MA parameters found.'\n"
          ]
        },
        {
          "name": "stdout",
          "output_type": "stream",
          "text": [
            "  Order: (1, 0, 0), AIC: 78.87145134962132\n",
            "  Order: (1, 1, 1), AIC: 78.8573104040611\n",
            "  Order: (1, 0, 0), AIC: 73.4551802324824\n"
          ]
        },
        {
          "name": "stderr",
          "output_type": "stream",
          "text": [
            "/work/projects/gcrp/.venv/lib/python3.12/site-packages/statsmodels/tsa/base/tsa_model.py:473: ValueWarning: No frequency information was provided, so inferred frequency YS-JAN will be used.\n",
            "  self._init_dates(dates, freq)\n",
            "/work/projects/gcrp/.venv/lib/python3.12/site-packages/statsmodels/tsa/base/tsa_model.py:473: ValueWarning: No frequency information was provided, so inferred frequency YS-JAN will be used.\n",
            "  self._init_dates(dates, freq)\n"
          ]
        },
        {
          "name": "stdout",
          "output_type": "stream",
          "text": [
            "  Order: (1, 1, 1), AIC: 71.46204208398329\n",
            "  Order: (1, 0, 0), AIC: -16.663000739405156\n"
          ]
        },
        {
          "name": "stderr",
          "output_type": "stream",
          "text": [
            "/work/projects/gcrp/.venv/lib/python3.12/site-packages/statsmodels/tsa/base/tsa_model.py:473: ValueWarning: No frequency information was provided, so inferred frequency YS-JAN will be used.\n",
            "  self._init_dates(dates, freq)\n",
            "/work/projects/gcrp/.venv/lib/python3.12/site-packages/statsmodels/tsa/base/tsa_model.py:473: ValueWarning: No frequency information was provided, so inferred frequency YS-JAN will be used.\n",
            "  self._init_dates(dates, freq)\n"
          ]
        },
        {
          "name": "stdout",
          "output_type": "stream",
          "text": [
            "  Order: (1, 1, 1), AIC: -17.225905676319627\n",
            "  Order: (1, 0, 0), AIC: 72.29403469841094\n"
          ]
        },
        {
          "name": "stderr",
          "output_type": "stream",
          "text": [
            "/work/projects/gcrp/.venv/lib/python3.12/site-packages/statsmodels/tsa/base/tsa_model.py:473: ValueWarning: No frequency information was provided, so inferred frequency YS-JAN will be used.\n",
            "  self._init_dates(dates, freq)\n",
            "/work/projects/gcrp/.venv/lib/python3.12/site-packages/statsmodels/tsa/base/tsa_model.py:473: ValueWarning: No frequency information was provided, so inferred frequency YS-JAN will be used.\n",
            "  self._init_dates(dates, freq)\n",
            "/work/projects/gcrp/.venv/lib/python3.12/site-packages/statsmodels/tsa/base/tsa_model.py:473: ValueWarning: No frequency information was provided, so inferred frequency YS-JAN will be used.\n",
            "  self._init_dates(dates, freq)\n",
            "/work/projects/gcrp/.venv/lib/python3.12/site-packages/statsmodels/tsa/base/tsa_model.py:473: ValueWarning: No frequency information was provided, so inferred frequency YS-JAN will be used.\n",
            "  self._init_dates(dates, freq)\n"
          ]
        },
        {
          "name": "stdout",
          "output_type": "stream",
          "text": [
            "  Order: (1, 0, 0), AIC: 77.16147589798553\n"
          ]
        },
        {
          "name": "stderr",
          "output_type": "stream",
          "text": [
            "/work/projects/gcrp/.venv/lib/python3.12/site-packages/statsmodels/tsa/base/tsa_model.py:473: ValueWarning: No frequency information was provided, so inferred frequency YS-JAN will be used.\n",
            "  self._init_dates(dates, freq)\n",
            "/work/projects/gcrp/.venv/lib/python3.12/site-packages/statsmodels/tsa/base/tsa_model.py:473: ValueWarning: No frequency information was provided, so inferred frequency YS-JAN will be used.\n",
            "  self._init_dates(dates, freq)\n",
            "/work/projects/gcrp/.venv/lib/python3.12/site-packages/statsmodels/tsa/base/tsa_model.py:473: ValueWarning: No frequency information was provided, so inferred frequency YS-JAN will be used.\n",
            "  self._init_dates(dates, freq)\n"
          ]
        },
        {
          "name": "stdout",
          "output_type": "stream",
          "text": [
            "  Order: (1, 0, 0), AIC: -5.8361036342615975\n",
            "  Order: (1, 0, 0), AIC: 39.104213224671014\n"
          ]
        },
        {
          "name": "stderr",
          "output_type": "stream",
          "text": [
            "/work/projects/gcrp/.venv/lib/python3.12/site-packages/statsmodels/tsa/base/tsa_model.py:473: ValueWarning: No frequency information was provided, so inferred frequency YS-JAN will be used.\n",
            "  self._init_dates(dates, freq)\n",
            "/work/projects/gcrp/.venv/lib/python3.12/site-packages/statsmodels/tsa/base/tsa_model.py:473: ValueWarning: No frequency information was provided, so inferred frequency YS-JAN will be used.\n",
            "  self._init_dates(dates, freq)\n",
            "/work/projects/gcrp/.venv/lib/python3.12/site-packages/statsmodels/tsa/base/tsa_model.py:473: ValueWarning: No frequency information was provided, so inferred frequency YS-JAN will be used.\n",
            "  self._init_dates(dates, freq)\n"
          ]
        },
        {
          "name": "stdout",
          "output_type": "stream",
          "text": [
            "  Order: (1, 0, 0), AIC: 30.950392214119375\n"
          ]
        },
        {
          "name": "stderr",
          "output_type": "stream",
          "text": [
            "/work/projects/gcrp/.venv/lib/python3.12/site-packages/statsmodels/tsa/base/tsa_model.py:473: ValueWarning: No frequency information was provided, so inferred frequency YS-JAN will be used.\n",
            "  self._init_dates(dates, freq)\n",
            "/work/projects/gcrp/.venv/lib/python3.12/site-packages/statsmodels/tsa/base/tsa_model.py:473: ValueWarning: No frequency information was provided, so inferred frequency YS-JAN will be used.\n",
            "  self._init_dates(dates, freq)\n"
          ]
        },
        {
          "name": "stdout",
          "output_type": "stream",
          "text": [
            "  Order: (1, 0, 0), AIC: 69.09053415969784\n",
            "  Order: (1, 1, 1), AIC: 65.55353438865878\n"
          ]
        },
        {
          "name": "stderr",
          "output_type": "stream",
          "text": [
            "/work/projects/gcrp/.venv/lib/python3.12/site-packages/statsmodels/tsa/base/tsa_model.py:473: ValueWarning: No frequency information was provided, so inferred frequency YS-JAN will be used.\n",
            "  self._init_dates(dates, freq)\n",
            "/work/projects/gcrp/.venv/lib/python3.12/site-packages/statsmodels/tsa/base/tsa_model.py:473: ValueWarning: No frequency information was provided, so inferred frequency YS-JAN will be used.\n",
            "  self._init_dates(dates, freq)\n",
            "/work/projects/gcrp/.venv/lib/python3.12/site-packages/statsmodels/tsa/statespace/sarimax.py:966: UserWarning: Non-stationary starting autoregressive parameters found. Using zeros as starting parameters.\n",
            "  warn('Non-stationary starting autoregressive parameters'\n",
            "/work/projects/gcrp/.venv/lib/python3.12/site-packages/statsmodels/tsa/statespace/sarimax.py:978: UserWarning: Non-invertible starting MA parameters found. Using zeros as starting parameters.\n",
            "  warn('Non-invertible starting MA parameters found.'\n"
          ]
        },
        {
          "name": "stdout",
          "output_type": "stream",
          "text": [
            "  Order: (1, 0, 0), AIC: 70.11396038833942\n"
          ]
        },
        {
          "name": "stderr",
          "output_type": "stream",
          "text": [
            "/work/projects/gcrp/.venv/lib/python3.12/site-packages/statsmodels/tsa/base/tsa_model.py:473: ValueWarning: No frequency information was provided, so inferred frequency YS-JAN will be used.\n",
            "  self._init_dates(dates, freq)\n",
            "/work/projects/gcrp/.venv/lib/python3.12/site-packages/statsmodels/tsa/base/tsa_model.py:473: ValueWarning: No frequency information was provided, so inferred frequency YS-JAN will be used.\n",
            "  self._init_dates(dates, freq)\n",
            "/work/projects/gcrp/.venv/lib/python3.12/site-packages/statsmodels/tsa/statespace/sarimax.py:966: UserWarning: Non-stationary starting autoregressive parameters found. Using zeros as starting parameters.\n",
            "  warn('Non-stationary starting autoregressive parameters'\n",
            "/work/projects/gcrp/.venv/lib/python3.12/site-packages/statsmodels/tsa/statespace/sarimax.py:978: UserWarning: Non-invertible starting MA parameters found. Using zeros as starting parameters.\n",
            "  warn('Non-invertible starting MA parameters found.'\n"
          ]
        },
        {
          "name": "stdout",
          "output_type": "stream",
          "text": [
            "  Order: (1, 0, 0), AIC: 107.5205503420513\n"
          ]
        },
        {
          "name": "stderr",
          "output_type": "stream",
          "text": [
            "/work/projects/gcrp/.venv/lib/python3.12/site-packages/statsmodels/tsa/base/tsa_model.py:473: ValueWarning: No frequency information was provided, so inferred frequency YS-JAN will be used.\n",
            "  self._init_dates(dates, freq)\n",
            "/work/projects/gcrp/.venv/lib/python3.12/site-packages/statsmodels/tsa/base/tsa_model.py:473: ValueWarning: No frequency information was provided, so inferred frequency YS-JAN will be used.\n",
            "  self._init_dates(dates, freq)\n",
            "/work/projects/gcrp/.venv/lib/python3.12/site-packages/statsmodels/tsa/statespace/sarimax.py:978: UserWarning: Non-invertible starting MA parameters found. Using zeros as starting parameters.\n",
            "  warn('Non-invertible starting MA parameters found.'\n"
          ]
        },
        {
          "name": "stdout",
          "output_type": "stream",
          "text": [
            "  Order: (1, 0, 0), AIC: 97.33564295300854\n"
          ]
        },
        {
          "name": "stderr",
          "output_type": "stream",
          "text": [
            "/work/projects/gcrp/.venv/lib/python3.12/site-packages/statsmodels/tsa/base/tsa_model.py:473: ValueWarning: No frequency information was provided, so inferred frequency YS-JAN will be used.\n",
            "  self._init_dates(dates, freq)\n",
            "/work/projects/gcrp/.venv/lib/python3.12/site-packages/statsmodels/tsa/base/tsa_model.py:473: ValueWarning: No frequency information was provided, so inferred frequency YS-JAN will be used.\n",
            "  self._init_dates(dates, freq)\n"
          ]
        },
        {
          "name": "stdout",
          "output_type": "stream",
          "text": [
            "  Order: (1, 0, 0), AIC: 107.86079180240833\n",
            "  Order: (1, 1, 1), AIC: 105.90668299356808\n",
            "  Order: (1, 0, 0), AIC: 70.15677421369783\n"
          ]
        },
        {
          "name": "stderr",
          "output_type": "stream",
          "text": [
            "/work/projects/gcrp/.venv/lib/python3.12/site-packages/statsmodels/tsa/base/tsa_model.py:473: ValueWarning: No frequency information was provided, so inferred frequency YS-JAN will be used.\n",
            "  self._init_dates(dates, freq)\n",
            "/work/projects/gcrp/.venv/lib/python3.12/site-packages/statsmodels/tsa/base/tsa_model.py:473: ValueWarning: No frequency information was provided, so inferred frequency YS-JAN will be used.\n",
            "  self._init_dates(dates, freq)\n",
            "/work/projects/gcrp/.venv/lib/python3.12/site-packages/statsmodels/tsa/statespace/sarimax.py:966: UserWarning: Non-stationary starting autoregressive parameters found. Using zeros as starting parameters.\n",
            "  warn('Non-stationary starting autoregressive parameters'\n",
            "/work/projects/gcrp/.venv/lib/python3.12/site-packages/statsmodels/tsa/statespace/sarimax.py:978: UserWarning: Non-invertible starting MA parameters found. Using zeros as starting parameters.\n",
            "  warn('Non-invertible starting MA parameters found.'\n"
          ]
        },
        {
          "name": "stdout",
          "output_type": "stream",
          "text": [
            "  Order: (1, 1, 1), AIC: 68.3264724633053\n",
            "  Order: (1, 0, 0), AIC: 61.263467165262945\n"
          ]
        },
        {
          "name": "stderr",
          "output_type": "stream",
          "text": [
            "/work/projects/gcrp/.venv/lib/python3.12/site-packages/statsmodels/tsa/base/tsa_model.py:473: ValueWarning: No frequency information was provided, so inferred frequency YS-JAN will be used.\n",
            "  self._init_dates(dates, freq)\n",
            "/work/projects/gcrp/.venv/lib/python3.12/site-packages/statsmodels/tsa/base/tsa_model.py:473: ValueWarning: No frequency information was provided, so inferred frequency YS-JAN will be used.\n",
            "  self._init_dates(dates, freq)\n",
            "/work/projects/gcrp/.venv/lib/python3.12/site-packages/statsmodels/tsa/base/tsa_model.py:473: ValueWarning: No frequency information was provided, so inferred frequency YS-JAN will be used.\n",
            "  self._init_dates(dates, freq)\n",
            "/work/projects/gcrp/.venv/lib/python3.12/site-packages/statsmodels/tsa/base/tsa_model.py:473: ValueWarning: No frequency information was provided, so inferred frequency YS-JAN will be used.\n",
            "  self._init_dates(dates, freq)\n"
          ]
        },
        {
          "name": "stdout",
          "output_type": "stream",
          "text": [
            "  Order: (1, 0, 0), AIC: 86.12087465919787\n",
            "  Order: (1, 1, 1), AIC: 84.8076609016616\n"
          ]
        },
        {
          "name": "stderr",
          "output_type": "stream",
          "text": [
            "/work/projects/gcrp/.venv/lib/python3.12/site-packages/statsmodels/tsa/base/tsa_model.py:473: ValueWarning: No frequency information was provided, so inferred frequency YS-JAN will be used.\n",
            "  self._init_dates(dates, freq)\n",
            "/work/projects/gcrp/.venv/lib/python3.12/site-packages/statsmodels/tsa/base/tsa_model.py:473: ValueWarning: No frequency information was provided, so inferred frequency YS-JAN will be used.\n",
            "  self._init_dates(dates, freq)\n"
          ]
        },
        {
          "name": "stdout",
          "output_type": "stream",
          "text": [
            "  Order: (1, 0, 0), AIC: 41.850603928903624\n"
          ]
        },
        {
          "name": "stderr",
          "output_type": "stream",
          "text": [
            "/work/projects/gcrp/.venv/lib/python3.12/site-packages/statsmodels/tsa/base/tsa_model.py:473: ValueWarning: No frequency information was provided, so inferred frequency YS-JAN will be used.\n",
            "  self._init_dates(dates, freq)\n",
            "/work/projects/gcrp/.venv/lib/python3.12/site-packages/statsmodels/tsa/base/tsa_model.py:473: ValueWarning: No frequency information was provided, so inferred frequency YS-JAN will be used.\n",
            "  self._init_dates(dates, freq)\n"
          ]
        },
        {
          "name": "stdout",
          "output_type": "stream",
          "text": [
            "  Order: (1, 0, 0), AIC: 37.303788059239466\n",
            "  Order: (1, 1, 1), AIC: 36.88908512311481\n",
            "Successfully loaded 36 models.\n",
            "Successfully loaded 36 models.\n",
            "\n",
            "Starting prediction and evaluation...\n",
            "INSIDE predict_and_evaluate_fn\n",
            "PReditctions for Marshall Islands is 2011-01-01    28.113183\n",
            "2012-01-01    28.091912\n",
            "2013-01-01    28.086700\n",
            "2014-01-01    28.085423\n",
            "2015-01-01    28.085110\n",
            "2016-01-01    28.085033\n",
            "2017-01-01    28.085015\n",
            "2018-01-01    28.085010\n",
            "2019-01-01    28.085009\n",
            "2020-01-01    28.085009\n",
            "2021-01-01    28.085009\n",
            "2022-01-01    28.085009\n",
            "2023-01-01    28.085009\n",
            "2024-01-01    28.085009\n",
            "2025-01-01    28.085009\n",
            "Freq: YS-JAN, Name: predicted_mean, dtype: float64\n",
            "Processed Marshall Islands: RMSE = 0.37, MAE = 0.34\n",
            "INSIDE predict_and_evaluate_fn\n",
            "PReditctions for France is 2011-01-01    12.516511\n",
            "2012-01-01    12.613578\n",
            "2013-01-01    12.638602\n",
            "2014-01-01    12.645054\n",
            "2015-01-01    12.646717\n",
            "2016-01-01    12.647145\n",
            "2017-01-01    12.647256\n",
            "2018-01-01    12.647285\n",
            "2019-01-01    12.647292\n",
            "2020-01-01    12.647294\n",
            "2021-01-01    12.647294\n",
            "2022-01-01    12.647294\n",
            "2023-01-01    12.647294\n",
            "2024-01-01    12.647294\n",
            "2025-01-01    12.647294\n",
            "Freq: YS-JAN, Name: predicted_mean, dtype: float64\n",
            "Processed France: RMSE = 1.35, MAE = 1.21\n",
            "INSIDE predict_and_evaluate_fn\n",
            "PReditctions for Iceland is 2011-01-01    5.597858\n",
            "2012-01-01    5.581425\n",
            "2013-01-01    5.580658\n",
            "2014-01-01    5.580622\n",
            "2015-01-01    5.580621\n",
            "2016-01-01    5.580621\n",
            "2017-01-01    5.580621\n",
            "2018-01-01    5.580621\n",
            "2019-01-01    5.580621\n",
            "2020-01-01    5.580621\n",
            "2021-01-01    5.580621\n",
            "2022-01-01    5.580621\n",
            "2023-01-01    5.580621\n",
            "2024-01-01    5.580621\n",
            "2025-01-01    5.580621\n",
            "Freq: YS-JAN, Name: predicted_mean, dtype: float64\n",
            "Processed Iceland: RMSE = 0.50, MAE = 0.46\n",
            "INSIDE predict_and_evaluate_fn\n",
            "PReditctions for Palau is 2011-01-01    27.741425\n",
            "2012-01-01    27.768912\n",
            "2013-01-01    27.787152\n",
            "2014-01-01    27.799255\n",
            "2015-01-01    27.807287\n",
            "2016-01-01    27.812616\n",
            "2017-01-01    27.816152\n",
            "2018-01-01    27.818498\n",
            "2019-01-01    27.820056\n",
            "2020-01-01    27.821089\n",
            "2021-01-01    27.821774\n",
            "2022-01-01    27.822229\n",
            "2023-01-01    27.822531\n",
            "2024-01-01    27.822731\n",
            "2025-01-01    27.822864\n",
            "Freq: YS-JAN, Name: predicted_mean, dtype: float64\n",
            "Processed Palau: RMSE = 0.36, MAE = 0.34\n",
            "INSIDE predict_and_evaluate_fn\n",
            "PReditctions for China is 2011-01-01    13.913070\n",
            "2012-01-01    13.909103\n",
            "2013-01-01    13.908228\n",
            "2014-01-01    13.908034\n",
            "2015-01-01    13.907991\n",
            "2016-01-01    13.907982\n",
            "2017-01-01    13.907980\n",
            "2018-01-01    13.907979\n",
            "2019-01-01    13.907979\n",
            "2020-01-01    13.907979\n",
            "2021-01-01    13.907979\n",
            "2022-01-01    13.907979\n",
            "2023-01-01    13.907979\n",
            "2024-01-01    13.907979\n",
            "2025-01-01    13.907979\n",
            "Freq: YS-JAN, Name: predicted_mean, dtype: float64\n",
            "Processed China: RMSE = 1.96, MAE = 1.41\n",
            "INSIDE predict_and_evaluate_fn\n",
            "PReditctions for Slovakia is 2011-01-01    6.485617\n",
            "2012-01-01    6.478972\n",
            "2013-01-01    6.475901\n",
            "2014-01-01    6.474483\n",
            "2015-01-01    6.473828\n",
            "2016-01-01    6.473525\n",
            "2017-01-01    6.473385\n",
            "2018-01-01    6.473320\n",
            "2019-01-01    6.473291\n",
            "2020-01-01    6.473277\n",
            "2021-01-01    6.473270\n",
            "2022-01-01    6.473267\n",
            "2023-01-01    6.473266\n",
            "2024-01-01    6.473265\n",
            "2025-01-01    6.473265\n",
            "Freq: YS-JAN, Name: predicted_mean, dtype: float64\n",
            "Processed Slovakia: RMSE = 1.50, MAE = 1.41\n",
            "INSIDE predict_and_evaluate_fn\n",
            "PReditctions for United Kingdom is 2011-01-01    8.568597\n",
            "2012-01-01    8.751706\n",
            "2013-01-01    8.856945\n",
            "2014-01-01    8.917430\n",
            "2015-01-01    8.952193\n",
            "2016-01-01    8.972173\n",
            "2017-01-01    8.983656\n",
            "2018-01-01    8.990256\n",
            "2019-01-01    8.994049\n",
            "2020-01-01    8.996229\n",
            "2021-01-01    8.997482\n",
            "2022-01-01    8.998202\n",
            "2023-01-01    8.998616\n",
            "2024-01-01    8.998853\n",
            "2025-01-01    8.998990\n",
            "Freq: YS-JAN, Name: predicted_mean, dtype: float64\n",
            "Processed United Kingdom: RMSE = 0.75, MAE = 0.67\n",
            "INSIDE predict_and_evaluate_fn\n",
            "PReditctions for American Samoa [United States] is 2011-01-01    28.064460\n",
            "2012-01-01    28.057630\n",
            "2013-01-01    28.058353\n",
            "2014-01-01    28.058277\n",
            "2015-01-01    28.058285\n",
            "2016-01-01    28.058284\n",
            "2017-01-01    28.058284\n",
            "2018-01-01    28.058284\n",
            "2019-01-01    28.058284\n",
            "2020-01-01    28.058284\n",
            "2021-01-01    28.058284\n",
            "2022-01-01    28.058284\n",
            "2023-01-01    28.058284\n",
            "2024-01-01    28.058284\n",
            "2025-01-01    28.058284\n",
            "Freq: YS-JAN, Name: predicted_mean, dtype: float64\n",
            "Processed American Samoa [United States]: RMSE = 0.38, MAE = 0.32\n",
            "INSIDE predict_and_evaluate_fn\n",
            "PReditctions for Netherlands is 2011-01-01    9.550621\n",
            "2012-01-01    9.810241\n",
            "2013-01-01    9.913839\n",
            "2014-01-01    9.955177\n",
            "2015-01-01    9.971673\n",
            "2016-01-01    9.978255\n",
            "2017-01-01    9.980882\n",
            "2018-01-01    9.981930\n",
            "2019-01-01    9.982348\n",
            "2020-01-01    9.982515\n",
            "2021-01-01    9.982582\n",
            "2022-01-01    9.982608\n",
            "2023-01-01    9.982619\n",
            "2024-01-01    9.982623\n",
            "2025-01-01    9.982625\n",
            "Freq: YS-JAN, Name: predicted_mean, dtype: float64\n",
            "Processed Netherlands: RMSE = 1.16, MAE = 1.05\n",
            "INSIDE predict_and_evaluate_fn\n",
            "PReditctions for Hungary is 2011-01-01    11.064924\n",
            "2012-01-01    11.131357\n",
            "2013-01-01    11.148016\n",
            "2014-01-01    11.152194\n",
            "2015-01-01    11.153241\n",
            "2016-01-01    11.153504\n",
            "2017-01-01    11.153570\n",
            "2018-01-01    11.153586\n",
            "2019-01-01    11.153590\n",
            "2020-01-01    11.153591\n",
            "2021-01-01    11.153592\n",
            "2022-01-01    11.153592\n",
            "2023-01-01    11.153592\n",
            "2024-01-01    11.153592\n",
            "2025-01-01    11.153592\n",
            "Freq: YS-JAN, Name: predicted_mean, dtype: float64\n",
            "Processed Hungary: RMSE = 1.37, MAE = 1.32\n",
            "INSIDE predict_and_evaluate_fn\n",
            "PReditctions for Croatia is 2011-01-01    12.851372\n",
            "2012-01-01    12.957392\n",
            "2013-01-01    12.989381\n",
            "2014-01-01    12.999034\n",
            "2015-01-01    13.001946\n",
            "2016-01-01    13.002825\n",
            "2017-01-01    13.003090\n",
            "2018-01-01    13.003170\n",
            "2019-01-01    13.003194\n",
            "2020-01-01    13.003201\n",
            "2021-01-01    13.003204\n",
            "2022-01-01    13.003204\n",
            "2023-01-01    13.003205\n",
            "2024-01-01    13.003205\n",
            "2025-01-01    13.003205\n",
            "Freq: YS-JAN, Name: predicted_mean, dtype: float64\n",
            "Processed Croatia: RMSE = 0.81, MAE = 0.73\n",
            "INSIDE predict_and_evaluate_fn\n",
            "PReditctions for South Africa is 2011-01-01    16.025990\n",
            "2012-01-01    16.159598\n",
            "2013-01-01    16.214357\n",
            "2014-01-01    16.236800\n",
            "2015-01-01    16.245999\n",
            "2016-01-01    16.249769\n",
            "2017-01-01    16.251314\n",
            "2018-01-01    16.251947\n",
            "2019-01-01    16.252206\n",
            "2020-01-01    16.252313\n",
            "2021-01-01    16.252356\n",
            "2022-01-01    16.252374\n",
            "2023-01-01    16.252382\n",
            "2024-01-01    16.252385\n",
            "2025-01-01    16.252386\n",
            "Freq: YS-JAN, Name: predicted_mean, dtype: float64\n",
            "Processed South Africa: RMSE = 1.37, MAE = 1.24\n",
            "INSIDE predict_and_evaluate_fn\n",
            "PReditctions for Svalbard [Norway] is 2011-01-01   -4.025891\n",
            "2012-01-01   -3.993530\n",
            "2013-01-01   -3.979399\n",
            "2014-01-01   -3.973228\n",
            "2015-01-01   -3.970534\n",
            "2016-01-01   -3.969357\n",
            "2017-01-01   -3.968843\n",
            "2018-01-01   -3.968619\n",
            "2019-01-01   -3.968521\n",
            "2020-01-01   -3.968478\n",
            "2021-01-01   -3.968460\n",
            "2022-01-01   -3.968451\n",
            "2023-01-01   -3.968448\n",
            "2024-01-01   -3.968446\n",
            "2025-01-01   -3.968446\n",
            "Freq: YS-JAN, Name: predicted_mean, dtype: float64\n",
            "Processed Svalbard [Norway]: RMSE = 1.82, MAE = 1.61\n",
            "INSIDE predict_and_evaluate_fn\n",
            "PReditctions for Norway is 2011-01-01    2.850016\n",
            "2012-01-01    3.160077\n",
            "2013-01-01    3.251635\n",
            "2014-01-01    3.278672\n",
            "2015-01-01    3.286655\n",
            "2016-01-01    3.289013\n",
            "2017-01-01    3.289709\n",
            "2018-01-01    3.289915\n",
            "2019-01-01    3.289975\n",
            "2020-01-01    3.289993\n",
            "2021-01-01    3.289998\n",
            "2022-01-01    3.290000\n",
            "2023-01-01    3.290001\n",
            "2024-01-01    3.290001\n",
            "2025-01-01    3.290001\n",
            "Freq: YS-JAN, Name: predicted_mean, dtype: float64\n",
            "Processed Norway: RMSE = 0.70, MAE = 0.61\n",
            "INSIDE predict_and_evaluate_fn\n",
            "PReditctions for Luxembourg is 2011-01-01    9.427270\n",
            "2012-01-01    9.584508\n",
            "2013-01-01    9.623923\n",
            "2014-01-01    9.633803\n",
            "2015-01-01    9.636279\n",
            "2016-01-01    9.636900\n",
            "2017-01-01    9.637056\n",
            "2018-01-01    9.637095\n",
            "2019-01-01    9.637105\n",
            "2020-01-01    9.637107\n",
            "2021-01-01    9.637108\n",
            "2022-01-01    9.637108\n",
            "2023-01-01    9.637108\n",
            "2024-01-01    9.637108\n",
            "2025-01-01    9.637108\n",
            "Freq: YS-JAN, Name: predicted_mean, dtype: float64\n",
            "Processed Luxembourg: RMSE = 1.10, MAE = 1.00\n",
            "INSIDE predict_and_evaluate_fn\n",
            "PReditctions for Greenland [Denmark] is 2011-01-01   -2.213285\n",
            "2012-01-01   -3.327968\n",
            "2013-01-01   -3.832383\n",
            "2014-01-01   -4.060640\n",
            "2015-01-01   -4.163931\n",
            "2016-01-01   -4.210672\n",
            "2017-01-01   -4.231824\n",
            "2018-01-01   -4.241395\n",
            "2019-01-01   -4.245726\n",
            "2020-01-01   -4.247686\n",
            "2021-01-01   -4.248573\n",
            "2022-01-01   -4.248974\n",
            "2023-01-01   -4.249156\n",
            "2024-01-01   -4.249238\n",
            "2025-01-01   -4.249275\n",
            "Freq: YS-JAN, Name: predicted_mean, dtype: float64\n",
            "Processed Greenland [Denmark]: RMSE = 4.37, MAE = 3.73\n",
            "INSIDE predict_and_evaluate_fn\n",
            "PReditctions for Guam [United States] is 2011-01-01    27.823101\n",
            "2012-01-01    27.778333\n",
            "2013-01-01    27.752271\n",
            "2014-01-01    27.737098\n",
            "2015-01-01    27.728265\n",
            "2016-01-01    27.723123\n",
            "2017-01-01    27.720129\n",
            "2018-01-01    27.718386\n",
            "2019-01-01    27.717372\n",
            "2020-01-01    27.716781\n",
            "2021-01-01    27.716437\n",
            "2022-01-01    27.716237\n",
            "2023-01-01    27.716120\n",
            "2024-01-01    27.716052\n",
            "2025-01-01    27.716013\n",
            "Freq: YS-JAN, Name: predicted_mean, dtype: float64\n",
            "Processed Guam [United States]: RMSE = 0.41, MAE = 0.34\n",
            "INSIDE predict_and_evaluate_fn\n",
            "PReditctions for Puerto Rico [United States] is 2011-01-01    27.173919\n",
            "2012-01-01    27.118479\n",
            "2013-01-01    27.094101\n",
            "2014-01-01    27.083381\n",
            "2015-01-01    27.078667\n",
            "2016-01-01    27.076594\n",
            "2017-01-01    27.075683\n",
            "2018-01-01    27.075282\n",
            "2019-01-01    27.075106\n",
            "2020-01-01    27.075029\n",
            "2021-01-01    27.074995\n",
            "2022-01-01    27.074980\n",
            "2023-01-01    27.074973\n",
            "2024-01-01    27.074970\n",
            "2025-01-01    27.074969\n",
            "Freq: YS-JAN, Name: predicted_mean, dtype: float64\n",
            "Processed Puerto Rico [United States]: RMSE = 0.57, MAE = 0.52\n",
            "INSIDE predict_and_evaluate_fn\n",
            "PReditctions for Antarctica is 2011-01-01   -5.133420\n",
            "2012-01-01   -5.133405\n",
            "2013-01-01   -5.133408\n",
            "2014-01-01   -5.133407\n",
            "2015-01-01   -5.133407\n",
            "2016-01-01   -5.133407\n",
            "2017-01-01   -5.133407\n",
            "2018-01-01   -5.133407\n",
            "2019-01-01   -5.133407\n",
            "2020-01-01   -5.133407\n",
            "2021-01-01   -5.133407\n",
            "2022-01-01   -5.133407\n",
            "2023-01-01   -5.133407\n",
            "2024-01-01   -5.133407\n",
            "2025-01-01   -5.133407\n",
            "Freq: YS-JAN, Name: predicted_mean, dtype: float64\n",
            "Processed Antarctica: RMSE = 7.23, MAE = 6.98\n",
            "INSIDE predict_and_evaluate_fn\n",
            "PReditctions for Ukraine is 2011-01-01    9.409131\n",
            "2012-01-01    9.356055\n",
            "2013-01-01    9.341296\n",
            "2014-01-01    9.337191\n",
            "2015-01-01    9.336050\n",
            "2016-01-01    9.335733\n",
            "2017-01-01    9.335645\n",
            "2018-01-01    9.335620\n",
            "2019-01-01    9.335613\n",
            "2020-01-01    9.335611\n",
            "2021-01-01    9.335611\n",
            "2022-01-01    9.335611\n",
            "2023-01-01    9.335611\n",
            "2024-01-01    9.335611\n",
            "2025-01-01    9.335611\n",
            "Freq: YS-JAN, Name: predicted_mean, dtype: float64\n",
            "Processed Ukraine: RMSE = 1.05, MAE = 0.93\n",
            "INSIDE predict_and_evaluate_fn\n",
            "PReditctions for Latvia is 2011-01-01    6.492669\n",
            "2012-01-01    6.771282\n",
            "2013-01-01    6.968970\n",
            "2014-01-01    7.109237\n",
            "2015-01-01    7.208762\n",
            "2016-01-01    7.279378\n",
            "2017-01-01    7.329484\n",
            "2018-01-01    7.365036\n",
            "2019-01-01    7.390261\n",
            "2020-01-01    7.408159\n",
            "2021-01-01    7.420859\n",
            "2022-01-01    7.429870\n",
            "2023-01-01    7.436263\n",
            "2024-01-01    7.440800\n",
            "2025-01-01    7.444019\n",
            "Freq: YS-JAN, Name: predicted_mean, dtype: float64\n",
            "Processed Latvia: RMSE = 0.75, MAE = 0.68\n",
            "INSIDE predict_and_evaluate_fn\n",
            "PReditctions for Sweden is 2011-01-01    3.422938\n",
            "2012-01-01    3.420521\n",
            "2013-01-01    3.420625\n",
            "2014-01-01    3.420620\n",
            "2015-01-01    3.420620\n",
            "2016-01-01    3.420620\n",
            "2017-01-01    3.420620\n",
            "2018-01-01    3.420620\n",
            "2019-01-01    3.420620\n",
            "2020-01-01    3.420620\n",
            "2021-01-01    3.420620\n",
            "2022-01-01    3.420620\n",
            "2023-01-01    3.420620\n",
            "2024-01-01    3.420620\n",
            "2025-01-01    3.420620\n",
            "Freq: YS-JAN, Name: predicted_mean, dtype: float64\n",
            "Processed Sweden: RMSE = 2.30, MAE = 2.23\n",
            "INSIDE predict_and_evaluate_fn\n",
            "PReditctions for Australia is 2011-01-01    20.718392\n",
            "2012-01-01    20.718091\n",
            "2013-01-01    20.718087\n",
            "2014-01-01    20.718087\n",
            "2015-01-01    20.718087\n",
            "2016-01-01    20.718087\n",
            "2017-01-01    20.718087\n",
            "2018-01-01    20.718087\n",
            "2019-01-01    20.718087\n",
            "2020-01-01    20.718087\n",
            "2021-01-01    20.718087\n",
            "2022-01-01    20.718087\n",
            "2023-01-01    20.718087\n",
            "2024-01-01    20.718087\n",
            "2025-01-01    20.718087\n",
            "Freq: YS-JAN, Name: predicted_mean, dtype: float64\n",
            "Processed Australia: RMSE = 0.84, MAE = 0.76\n",
            "INSIDE predict_and_evaluate_fn\n",
            "PReditctions for Cyprus is 2011-01-01    20.804253\n",
            "2012-01-01    20.770490\n",
            "2013-01-01    20.767609\n",
            "2014-01-01    20.767363\n",
            "2015-01-01    20.767342\n",
            "2016-01-01    20.767341\n",
            "2017-01-01    20.767340\n",
            "2018-01-01    20.767340\n",
            "2019-01-01    20.767340\n",
            "2020-01-01    20.767340\n",
            "2021-01-01    20.767340\n",
            "2022-01-01    20.767340\n",
            "2023-01-01    20.767340\n",
            "2024-01-01    20.767340\n",
            "2025-01-01    20.767340\n",
            "Freq: YS-JAN, Name: predicted_mean, dtype: float64\n",
            "Processed Cyprus: RMSE = 0.43, MAE = 0.41\n",
            "INSIDE predict_and_evaluate_fn\n",
            "PReditctions for Jan Mayen [Norway] is 2011-01-01    0.637239\n",
            "2012-01-01    0.659995\n",
            "2013-01-01    0.663768\n",
            "2014-01-01    0.664393\n",
            "2015-01-01    0.664497\n",
            "2016-01-01    0.664514\n",
            "2017-01-01    0.664517\n",
            "2018-01-01    0.664517\n",
            "2019-01-01    0.664517\n",
            "2020-01-01    0.664517\n",
            "2021-01-01    0.664517\n",
            "2022-01-01    0.664517\n",
            "2023-01-01    0.664517\n",
            "2024-01-01    0.664517\n",
            "2025-01-01    0.664517\n",
            "Freq: YS-JAN, Name: predicted_mean, dtype: float64\n",
            "Processed Jan Mayen [Norway]: RMSE = 0.76, MAE = 0.59\n",
            "INSIDE predict_and_evaluate_fn\n",
            "PReditctions for Russia is 2011-01-01   -2.247545\n",
            "2012-01-01   -2.244482\n",
            "2013-01-01   -2.244451\n",
            "2014-01-01   -2.244451\n",
            "2015-01-01   -2.244451\n",
            "2016-01-01   -2.244451\n",
            "2017-01-01   -2.244451\n",
            "2018-01-01   -2.244451\n",
            "2019-01-01   -2.244451\n",
            "2020-01-01   -2.244451\n",
            "2021-01-01   -2.244451\n",
            "2022-01-01   -2.244451\n",
            "2023-01-01   -2.244451\n",
            "2024-01-01   -2.244451\n",
            "2025-01-01   -2.244451\n",
            "Freq: YS-JAN, Name: predicted_mean, dtype: float64\n",
            "Processed Russia: RMSE = 1.05, MAE = 1.01\n",
            "INSIDE predict_and_evaluate_fn\n",
            "PReditctions for Spain is 2011-01-01    15.524988\n",
            "2012-01-01    15.498092\n",
            "2013-01-01    15.499090\n",
            "2014-01-01    15.499053\n",
            "2015-01-01    15.499054\n",
            "2016-01-01    15.499054\n",
            "2017-01-01    15.499054\n",
            "2018-01-01    15.499054\n",
            "2019-01-01    15.499054\n",
            "2020-01-01    15.499054\n",
            "2021-01-01    15.499054\n",
            "2022-01-01    15.499054\n",
            "2023-01-01    15.499054\n",
            "2024-01-01    15.499054\n",
            "2025-01-01    15.499054\n",
            "Freq: YS-JAN, Name: predicted_mean, dtype: float64\n",
            "Processed Spain: RMSE = 0.49, MAE = 0.41\n",
            "INSIDE predict_and_evaluate_fn\n",
            "PReditctions for Switzerland is 2011-01-01   -0.763442\n",
            "2012-01-01   -0.695165\n",
            "2013-01-01   -0.690440\n",
            "2014-01-01   -0.690113\n",
            "2015-01-01   -0.690090\n",
            "2016-01-01   -0.690088\n",
            "2017-01-01   -0.690088\n",
            "2018-01-01   -0.690088\n",
            "2019-01-01   -0.690088\n",
            "2020-01-01   -0.690088\n",
            "2021-01-01   -0.690088\n",
            "2022-01-01   -0.690088\n",
            "2023-01-01   -0.690088\n",
            "2024-01-01   -0.690088\n",
            "2025-01-01   -0.690088\n",
            "Freq: YS-JAN, Name: predicted_mean, dtype: float64\n",
            "Processed Switzerland: RMSE = 1.29, MAE = 1.18\n",
            "INSIDE predict_and_evaluate_fn\n",
            "PReditctions for Germany is 2011-01-01    8.689970\n",
            "2012-01-01    8.918699\n",
            "2013-01-01    9.011301\n",
            "2014-01-01    9.048790\n",
            "2015-01-01    9.063968\n",
            "2016-01-01    9.070113\n",
            "2017-01-01    9.072601\n",
            "2018-01-01    9.073608\n",
            "2019-01-01    9.074016\n",
            "2020-01-01    9.074181\n",
            "2021-01-01    9.074247\n",
            "2022-01-01    9.074275\n",
            "2023-01-01    9.074285\n",
            "2024-01-01    9.074290\n",
            "2025-01-01    9.074292\n",
            "Freq: YS-JAN, Name: predicted_mean, dtype: float64\n",
            "Processed Germany: RMSE = 1.46, MAE = 1.32\n",
            "INSIDE predict_and_evaluate_fn\n",
            "PReditctions for United States is 2011-01-01    10.833425\n",
            "2012-01-01    10.833897\n",
            "2013-01-01    10.833984\n",
            "2014-01-01    10.834001\n",
            "2015-01-01    10.834004\n",
            "2016-01-01    10.834004\n",
            "2017-01-01    10.834004\n",
            "2018-01-01    10.834004\n",
            "2019-01-01    10.834004\n",
            "2020-01-01    10.834004\n",
            "2021-01-01    10.834004\n",
            "2022-01-01    10.834004\n",
            "2023-01-01    10.834004\n",
            "2024-01-01    10.834004\n",
            "2025-01-01    10.834004\n",
            "Freq: YS-JAN, Name: predicted_mean, dtype: float64\n",
            "Processed United States: RMSE = 1.04, MAE = 0.94\n",
            "INSIDE predict_and_evaluate_fn\n",
            "PReditctions for Finland is 2011-01-01    2.284731\n",
            "2012-01-01    2.545887\n",
            "2013-01-01    2.629257\n",
            "2014-01-01    2.655872\n",
            "2015-01-01    2.664368\n",
            "2016-01-01    2.667081\n",
            "2017-01-01    2.667947\n",
            "2018-01-01    2.668223\n",
            "2019-01-01    2.668311\n",
            "2020-01-01    2.668339\n",
            "2021-01-01    2.668348\n",
            "2022-01-01    2.668351\n",
            "2023-01-01    2.668352\n",
            "2024-01-01    2.668352\n",
            "2025-01-01    2.668353\n",
            "Freq: YS-JAN, Name: predicted_mean, dtype: float64\n",
            "Processed Finland: RMSE = 1.23, MAE = 1.10\n",
            "INSIDE predict_and_evaluate_fn\n",
            "PReditctions for Estonia is 2011-01-01    5.546704\n",
            "2012-01-01    5.688315\n",
            "2013-01-01    5.746155\n",
            "2014-01-01    5.769780\n",
            "2015-01-01    5.779429\n",
            "2016-01-01    5.783370\n",
            "2017-01-01    5.784980\n",
            "2018-01-01    5.785638\n",
            "2019-01-01    5.785906\n",
            "2020-01-01    5.786016\n",
            "2021-01-01    5.786061\n",
            "2022-01-01    5.786079\n",
            "2023-01-01    5.786086\n",
            "2024-01-01    5.786089\n",
            "2025-01-01    5.786091\n",
            "Freq: YS-JAN, Name: predicted_mean, dtype: float64\n",
            "Processed Estonia: RMSE = 1.52, MAE = 1.37\n",
            "INSIDE predict_and_evaluate_fn\n",
            "PReditctions for Portugal is 2011-01-01    17.395296\n",
            "2012-01-01    17.356157\n",
            "2013-01-01    17.348673\n",
            "2014-01-01    17.347242\n",
            "2015-01-01    17.346969\n",
            "2016-01-01    17.346916\n",
            "2017-01-01    17.346906\n",
            "2018-01-01    17.346904\n",
            "2019-01-01    17.346904\n",
            "2020-01-01    17.346904\n",
            "2021-01-01    17.346904\n",
            "2022-01-01    17.346904\n",
            "2023-01-01    17.346904\n",
            "2024-01-01    17.346904\n",
            "2025-01-01    17.346904\n",
            "Freq: YS-JAN, Name: predicted_mean, dtype: float64\n",
            "Processed Portugal: RMSE = 0.42, MAE = 0.37\n",
            "INSIDE predict_and_evaluate_fn\n",
            "PReditctions for Federated States of Micronesia is 2011-01-01    27.756208\n",
            "2012-01-01    27.622104\n",
            "2013-01-01    27.536652\n",
            "2014-01-01    27.482203\n",
            "2015-01-01    27.447507\n",
            "2016-01-01    27.425399\n",
            "2017-01-01    27.411312\n",
            "2018-01-01    27.402335\n",
            "2019-01-01    27.396616\n",
            "2020-01-01    27.392971\n",
            "2021-01-01    27.390649\n",
            "2022-01-01    27.389169\n",
            "2023-01-01    27.388226\n",
            "2024-01-01    27.387625\n",
            "2025-01-01    27.387242\n",
            "Freq: YS-JAN, Name: predicted_mean, dtype: float64\n",
            "Processed Federated States of Micronesia: RMSE = 0.70, MAE = 0.65\n",
            "INSIDE predict_and_evaluate_fn\n",
            "PReditctions for Canada is 2011-01-01   -2.221185\n",
            "2012-01-01   -2.193034\n",
            "2013-01-01   -2.193454\n",
            "2014-01-01   -2.193448\n",
            "2015-01-01   -2.193448\n",
            "2016-01-01   -2.193448\n",
            "2017-01-01   -2.193448\n",
            "2018-01-01   -2.193448\n",
            "2019-01-01   -2.193448\n",
            "2020-01-01   -2.193448\n",
            "2021-01-01   -2.193448\n",
            "2022-01-01   -2.193448\n",
            "2023-01-01   -2.193448\n",
            "2024-01-01   -2.193448\n",
            "2025-01-01   -2.193448\n",
            "Freq: YS-JAN, Name: predicted_mean, dtype: float64\n",
            "Processed Canada: RMSE = 0.81, MAE = 0.67\n",
            "INSIDE predict_and_evaluate_fn\n",
            "PReditctions for Austria is 2011-01-01    5.076494\n",
            "2012-01-01    5.195958\n",
            "2013-01-01    5.237546\n",
            "2014-01-01    5.252024\n",
            "2015-01-01    5.257064\n",
            "2016-01-01    5.258819\n",
            "2017-01-01    5.259430\n",
            "2018-01-01    5.259642\n",
            "2019-01-01    5.259716\n",
            "2020-01-01    5.259742\n",
            "2021-01-01    5.259751\n",
            "2022-01-01    5.259754\n",
            "2023-01-01    5.259755\n",
            "2024-01-01    5.259756\n",
            "2025-01-01    5.259756\n",
            "Freq: YS-JAN, Name: predicted_mean, dtype: float64\n",
            "Processed Austria: RMSE = 1.35, MAE = 1.25\n",
            "\n",
            "Prediction and evaluation complete.\n",
            "Evaluation Results: {'Marshall Islands': {'MSE': 0.1391419626095015, 'RMSE': 0.3730173757474329, 'MAE': 0.3389290951839058}, 'France': {'MSE': 1.8092140395684775, 'RMSE': 1.3450702730967172, 'MAE': 1.2109332764110061}, 'Iceland': {'MSE': 0.2455357039962169, 'RMSE': 0.4955155940999404, 'MAE': 0.4569155807008804}, 'Palau': {'MSE': 0.13239431719246192, 'RMSE': 0.3638602990056237, 'MAE': 0.33855182107188614}, 'China': {'MSE': 3.844702472522006, 'RMSE': 1.9607912873434556, 'MAE': 1.4121333599641372}, 'Slovakia': {'MSE': 2.2353304191668366, 'RMSE': 1.495102143389152, 'MAE': 1.4118711680547331}, 'United Kingdom': {'MSE': 0.5626593789715731, 'RMSE': 0.7501062451223648, 'MAE': 0.6734194362383472}, 'American Samoa [United States]': {'MSE': 0.1417278607496947, 'RMSE': 0.3764676091640484, 'MAE': 0.31534261877500924}, 'Netherlands': {'MSE': 1.3481141983981368, 'RMSE': 1.161083200463316, 'MAE': 1.0538092983551381}, 'Hungary': {'MSE': 1.8693857408036494, 'RMSE': 1.367254819265103, 'MAE': 1.320964425350436}, 'Croatia': {'MSE': 0.6624285085008276, 'RMSE': 0.8138971117412984, 'MAE': 0.734624901031646}, 'South Africa': {'MSE': 1.865808318240813, 'RMSE': 1.3659459426495666, 'MAE': 1.2393610559089419}, 'Svalbard [Norway]': {'MSE': 3.319518161450563, 'RMSE': 1.8219544894015776, 'MAE': 1.6085766838521878}, 'Norway': {'MSE': 0.4942387586193993, 'RMSE': 0.7030211651290446, 'MAE': 0.6149629495305103}, 'Luxembourg': {'MSE': 1.200907169347952, 'RMSE': 1.0958591010471885, 'MAE': 1.004750756419506}, 'Greenland [Denmark]': {'MSE': 19.12141276176648, 'RMSE': 4.372803764378923, 'MAE': 3.7269242386487993}, 'Guam [United States]': {'MSE': 0.16424583760560504, 'RMSE': 0.4052725473130459, 'MAE': 0.33862192373573025}, 'Puerto Rico [United States]': {'MSE': 0.3289336493783161, 'RMSE': 0.5735273745675232, 'MAE': 0.5231140987028264}, 'Antarctica': {'MSE': 52.29488707107394, 'RMSE': 7.231520384474757, 'MAE': 6.979925423998521}, 'Ukraine': {'MSE': 1.10293490234162, 'RMSE': 1.0502070759338942, 'MAE': 0.9338176128520235}, 'Latvia': {'MSE': 0.5575356131021533, 'RMSE': 0.746683074069684, 'MAE': 0.6803301862614558}, 'Sweden': {'MSE': 5.26825320740486, 'RMSE': 2.295267567715115, 'MAE': 2.2258980856107238}, 'Australia': {'MSE': 0.7101187168476334, 'RMSE': 0.8426854198617854, 'MAE': 0.7575758048008585}, 'Cyprus': {'MSE': 0.18623053162484515, 'RMSE': 0.4315443564975044, 'MAE': 0.4100308729371209}, 'Jan Mayen [Norway]': {'MSE': 0.574537118059996, 'RMSE': 0.7579822676421896, 'MAE': 0.5913688157773515}, 'Russia': {'MSE': 1.1111698144858058, 'RMSE': 1.0541203984772356, 'MAE': 1.0114123434480287}, 'Spain': {'MSE': 0.23926314070947913, 'RMSE': 0.48914531655682764, 'MAE': 0.41323715824218077}, 'Switzerland': {'MSE': 1.6762082150932869, 'RMSE': 1.2946846006241393, 'MAE': 1.1766168744286511}, 'Germany': {'MSE': 2.1293905027982607, 'RMSE': 1.4592431266921426, 'MAE': 1.3170909635806454}, 'United States': {'MSE': 1.0805249016263612, 'RMSE': 1.0394829972762234, 'MAE': 0.9403946934627813}, 'Finland': {'MSE': 1.5032329753993199, 'RMSE': 1.2260640176594857, 'MAE': 1.0953334000699273}, 'Estonia': {'MSE': 2.3204465075168885, 'RMSE': 1.5233011873943014, 'MAE': 1.369328776390803}, 'Portugal': {'MSE': 0.17270038866007875, 'RMSE': 0.4155723627240853, 'MAE': 0.3697511352930166}, 'Federated States of Micronesia': {'MSE': 0.496744836346319, 'RMSE': 0.7048012743648517, 'MAE': 0.6478077430837043}, 'Canada': {'MSE': 0.6598237128716072, 'RMSE': 0.8122953359903079, 'MAE': 0.6661883477603906}, 'Austria': {'MSE': 1.8134505845587061, 'RMSE': 1.3466441937493014, 'MAE': 1.2523194860439186}}\n"
          ]
        }
      ],
      "source": [
        "###Testing Till this::\n",
        "filepath = f'{basePath}/data/processed/trimmedData.csv'\n",
        "df = pd.read_csv(filepath)\n",
        "column_name = 'TAVG'\n",
        "models_dir = f'{basePath}/modelsNew/trainedModels'\n",
        "arima_orders = [(1, 0, 0), (1, 1, 1)]\n",
        "df_train, df_test = prepare_column_data_pipeline(df, column_name, start_year=1980, train_end_year=2010, completeness_threshold=0.8)\n",
        "best_models_dict = train_models_for_countries(df_train, column_name, arima_orders)\n",
        "save_trained_models(best_models_dict, models_dir)\n",
        "\n",
        "loaded_models = load_trained_models(models_dir)\n",
        "\n",
        "\n",
        "# 4. Predict and evaluate the models\n",
        "evaluation_results = predict_and_evaluate_all_models(models_dir, df_test, column_name)\n",
        "print(\"Evaluation Results:\", evaluation_results)"
      ]
    },
    {
      "cell_type": "code",
      "execution_count": 268,
      "metadata": {},
      "outputs": [
        {
          "name": "stdout",
          "output_type": "stream",
          "text": [
            "Starting final model training for column: TAVG\n"
          ]
        },
        {
          "name": "stderr",
          "output_type": "stream",
          "text": [
            "/work/projects/gcrp/.venv/lib/python3.12/site-packages/statsmodels/tsa/base/tsa_model.py:473: ValueWarning: No frequency information was provided, so inferred frequency YS-JAN will be used.\n",
            "  self._init_dates(dates, freq)\n"
          ]
        },
        {
          "name": "stdout",
          "output_type": "stream",
          "text": [
            "  Order: (1, 0, 0), AIC: 49.51521340571164\n"
          ]
        },
        {
          "name": "stderr",
          "output_type": "stream",
          "text": [
            "/work/projects/gcrp/.venv/lib/python3.12/site-packages/statsmodels/tsa/base/tsa_model.py:473: ValueWarning: No frequency information was provided, so inferred frequency YS-JAN will be used.\n",
            "  self._init_dates(dates, freq)\n"
          ]
        },
        {
          "name": "stdout",
          "output_type": "stream",
          "text": [
            "  Order: (1, 1, 1), AIC: 43.96904353817026\n"
          ]
        },
        {
          "name": "stderr",
          "output_type": "stream",
          "text": [
            "/work/projects/gcrp/.venv/lib/python3.12/site-packages/statsmodels/tsa/base/tsa_model.py:473: ValueWarning: No frequency information was provided, so inferred frequency YS-JAN will be used.\n",
            "  self._init_dates(dates, freq)\n"
          ]
        },
        {
          "name": "stdout",
          "output_type": "stream",
          "text": [
            "  Order: (1, 0, 0), AIC: 216.18532628758152\n"
          ]
        },
        {
          "name": "stderr",
          "output_type": "stream",
          "text": [
            "/work/projects/gcrp/.venv/lib/python3.12/site-packages/statsmodels/tsa/base/tsa_model.py:473: ValueWarning: No frequency information was provided, so inferred frequency YS-JAN will be used.\n",
            "  self._init_dates(dates, freq)\n"
          ]
        },
        {
          "name": "stdout",
          "output_type": "stream",
          "text": [
            "  Order: (1, 1, 1), AIC: 209.8313383389377\n",
            "  Order: (1, 0, 0), AIC: 61.31000113531107\n"
          ]
        },
        {
          "name": "stderr",
          "output_type": "stream",
          "text": [
            "/work/projects/gcrp/.venv/lib/python3.12/site-packages/statsmodels/tsa/base/tsa_model.py:473: ValueWarning: No frequency information was provided, so inferred frequency YS-JAN will be used.\n",
            "  self._init_dates(dates, freq)\n",
            "/work/projects/gcrp/.venv/lib/python3.12/site-packages/statsmodels/tsa/base/tsa_model.py:473: ValueWarning: No frequency information was provided, so inferred frequency YS-JAN will be used.\n",
            "  self._init_dates(dates, freq)\n"
          ]
        },
        {
          "name": "stdout",
          "output_type": "stream",
          "text": [
            "  Order: (1, 1, 1), AIC: 53.556066286404054\n",
            "  Order: (1, 0, 0), AIC: 129.09963968592098\n"
          ]
        },
        {
          "name": "stderr",
          "output_type": "stream",
          "text": [
            "/work/projects/gcrp/.venv/lib/python3.12/site-packages/statsmodels/tsa/base/tsa_model.py:473: ValueWarning: No frequency information was provided, so inferred frequency YS-JAN will be used.\n",
            "  self._init_dates(dates, freq)\n",
            "/work/projects/gcrp/.venv/lib/python3.12/site-packages/statsmodels/tsa/base/tsa_model.py:473: ValueWarning: No frequency information was provided, so inferred frequency YS-JAN will be used.\n",
            "  self._init_dates(dates, freq)\n"
          ]
        },
        {
          "name": "stdout",
          "output_type": "stream",
          "text": [
            "  Order: (1, 1, 1), AIC: 126.12079250526509\n",
            "  Order: (1, 0, 0), AIC: 138.77562769779246\n"
          ]
        },
        {
          "name": "stderr",
          "output_type": "stream",
          "text": [
            "/work/projects/gcrp/.venv/lib/python3.12/site-packages/statsmodels/tsa/base/tsa_model.py:473: ValueWarning: No frequency information was provided, so inferred frequency YS-JAN will be used.\n",
            "  self._init_dates(dates, freq)\n",
            "/work/projects/gcrp/.venv/lib/python3.12/site-packages/statsmodels/tsa/base/tsa_model.py:473: ValueWarning: No frequency information was provided, so inferred frequency YS-JAN will be used.\n",
            "  self._init_dates(dates, freq)\n"
          ]
        },
        {
          "name": "stdout",
          "output_type": "stream",
          "text": [
            "  Order: (1, 1, 1), AIC: 138.26573818765212\n"
          ]
        },
        {
          "name": "stderr",
          "output_type": "stream",
          "text": [
            "/work/projects/gcrp/.venv/lib/python3.12/site-packages/statsmodels/tsa/base/tsa_model.py:473: ValueWarning: No frequency information was provided, so inferred frequency YS-JAN will be used.\n",
            "  self._init_dates(dates, freq)\n"
          ]
        },
        {
          "name": "stdout",
          "output_type": "stream",
          "text": [
            "  Order: (1, 0, 0), AIC: 111.61176619423185\n"
          ]
        },
        {
          "name": "stderr",
          "output_type": "stream",
          "text": [
            "/work/projects/gcrp/.venv/lib/python3.12/site-packages/statsmodels/tsa/base/tsa_model.py:473: ValueWarning: No frequency information was provided, so inferred frequency YS-JAN will be used.\n",
            "  self._init_dates(dates, freq)\n",
            "/work/projects/gcrp/.venv/lib/python3.12/site-packages/statsmodels/tsa/statespace/sarimax.py:966: UserWarning: Non-stationary starting autoregressive parameters found. Using zeros as starting parameters.\n",
            "  warn('Non-stationary starting autoregressive parameters'\n",
            "/work/projects/gcrp/.venv/lib/python3.12/site-packages/statsmodels/tsa/statespace/sarimax.py:978: UserWarning: Non-invertible starting MA parameters found. Using zeros as starting parameters.\n",
            "  warn('Non-invertible starting MA parameters found.'\n"
          ]
        },
        {
          "name": "stdout",
          "output_type": "stream",
          "text": [
            "  Order: (1, 1, 1), AIC: 108.6221855947157\n"
          ]
        },
        {
          "name": "stderr",
          "output_type": "stream",
          "text": [
            "/work/projects/gcrp/.venv/lib/python3.12/site-packages/statsmodels/tsa/base/tsa_model.py:473: ValueWarning: No frequency information was provided, so inferred frequency YS-JAN will be used.\n",
            "  self._init_dates(dates, freq)\n"
          ]
        },
        {
          "name": "stdout",
          "output_type": "stream",
          "text": [
            "  Order: (1, 0, 0), AIC: 100.00106683768075\n"
          ]
        },
        {
          "name": "stderr",
          "output_type": "stream",
          "text": [
            "/work/projects/gcrp/.venv/lib/python3.12/site-packages/statsmodels/tsa/base/tsa_model.py:473: ValueWarning: No frequency information was provided, so inferred frequency YS-JAN will be used.\n",
            "  self._init_dates(dates, freq)\n"
          ]
        },
        {
          "name": "stdout",
          "output_type": "stream",
          "text": [
            "  Order: (1, 1, 1), AIC: 92.48683460801719\n",
            "  Order: (1, 0, 0), AIC: 61.16426722754099\n"
          ]
        },
        {
          "name": "stderr",
          "output_type": "stream",
          "text": [
            "/work/projects/gcrp/.venv/lib/python3.12/site-packages/statsmodels/tsa/base/tsa_model.py:473: ValueWarning: No frequency information was provided, so inferred frequency YS-JAN will be used.\n",
            "  self._init_dates(dates, freq)\n",
            "/work/projects/gcrp/.venv/lib/python3.12/site-packages/statsmodels/tsa/base/tsa_model.py:473: ValueWarning: No frequency information was provided, so inferred frequency YS-JAN will be used.\n",
            "  self._init_dates(dates, freq)\n"
          ]
        },
        {
          "name": "stdout",
          "output_type": "stream",
          "text": [
            "  Order: (1, 1, 1), AIC: 50.494801376901115\n",
            "  Order: (1, 0, 0), AIC: 128.41213003621266\n"
          ]
        },
        {
          "name": "stderr",
          "output_type": "stream",
          "text": [
            "/work/projects/gcrp/.venv/lib/python3.12/site-packages/statsmodels/tsa/base/tsa_model.py:473: ValueWarning: No frequency information was provided, so inferred frequency YS-JAN will be used.\n",
            "  self._init_dates(dates, freq)\n",
            "/work/projects/gcrp/.venv/lib/python3.12/site-packages/statsmodels/tsa/base/tsa_model.py:473: ValueWarning: No frequency information was provided, so inferred frequency YS-JAN will be used.\n",
            "  self._init_dates(dates, freq)\n"
          ]
        },
        {
          "name": "stdout",
          "output_type": "stream",
          "text": [
            "  Order: (1, 1, 1), AIC: 123.14180172829737\n"
          ]
        },
        {
          "name": "stderr",
          "output_type": "stream",
          "text": [
            "/work/projects/gcrp/.venv/lib/python3.12/site-packages/statsmodels/tsa/base/tsa_model.py:473: ValueWarning: No frequency information was provided, so inferred frequency YS-JAN will be used.\n",
            "  self._init_dates(dates, freq)\n"
          ]
        },
        {
          "name": "stdout",
          "output_type": "stream",
          "text": [
            "  Order: (1, 0, 0), AIC: 4.378638293830727\n"
          ]
        },
        {
          "name": "stderr",
          "output_type": "stream",
          "text": [
            "/work/projects/gcrp/.venv/lib/python3.12/site-packages/statsmodels/tsa/base/tsa_model.py:473: ValueWarning: No frequency information was provided, so inferred frequency YS-JAN will be used.\n",
            "  self._init_dates(dates, freq)\n"
          ]
        },
        {
          "name": "stdout",
          "output_type": "stream",
          "text": [
            "  Order: (1, 1, 1), AIC: 1.5792286074985693\n",
            "  Order: (1, 0, 0), AIC: 133.56020986592313\n"
          ]
        },
        {
          "name": "stderr",
          "output_type": "stream",
          "text": [
            "/work/projects/gcrp/.venv/lib/python3.12/site-packages/statsmodels/tsa/base/tsa_model.py:473: ValueWarning: No frequency information was provided, so inferred frequency YS-JAN will be used.\n",
            "  self._init_dates(dates, freq)\n",
            "/work/projects/gcrp/.venv/lib/python3.12/site-packages/statsmodels/tsa/base/tsa_model.py:473: ValueWarning: No frequency information was provided, so inferred frequency YS-JAN will be used.\n",
            "  self._init_dates(dates, freq)\n"
          ]
        },
        {
          "name": "stdout",
          "output_type": "stream",
          "text": [
            "  Order: (1, 1, 1), AIC: 125.40908082438338\n",
            "  Order: (1, 0, 0), AIC: 111.20624130590497\n"
          ]
        },
        {
          "name": "stderr",
          "output_type": "stream",
          "text": [
            "/work/projects/gcrp/.venv/lib/python3.12/site-packages/statsmodels/tsa/base/tsa_model.py:473: ValueWarning: No frequency information was provided, so inferred frequency YS-JAN will be used.\n",
            "  self._init_dates(dates, freq)\n",
            "/work/projects/gcrp/.venv/lib/python3.12/site-packages/statsmodels/tsa/base/tsa_model.py:473: ValueWarning: No frequency information was provided, so inferred frequency YS-JAN will be used.\n",
            "  self._init_dates(dates, freq)\n"
          ]
        },
        {
          "name": "stdout",
          "output_type": "stream",
          "text": [
            "  Order: (1, 1, 1), AIC: 98.61460062715834\n"
          ]
        },
        {
          "name": "stderr",
          "output_type": "stream",
          "text": [
            "/work/projects/gcrp/.venv/lib/python3.12/site-packages/statsmodels/tsa/base/tsa_model.py:473: ValueWarning: No frequency information was provided, so inferred frequency YS-JAN will be used.\n",
            "  self._init_dates(dates, freq)\n"
          ]
        },
        {
          "name": "stdout",
          "output_type": "stream",
          "text": [
            "  Order: (1, 0, 0), AIC: 114.27242064801534\n"
          ]
        },
        {
          "name": "stderr",
          "output_type": "stream",
          "text": [
            "/work/projects/gcrp/.venv/lib/python3.12/site-packages/statsmodels/tsa/base/tsa_model.py:473: ValueWarning: No frequency information was provided, so inferred frequency YS-JAN will be used.\n",
            "  self._init_dates(dates, freq)\n"
          ]
        },
        {
          "name": "stdout",
          "output_type": "stream",
          "text": [
            "  Order: (1, 1, 1), AIC: 106.65624772150258\n"
          ]
        },
        {
          "name": "stderr",
          "output_type": "stream",
          "text": [
            "/work/projects/gcrp/.venv/lib/python3.12/site-packages/statsmodels/tsa/base/tsa_model.py:473: ValueWarning: No frequency information was provided, so inferred frequency YS-JAN will be used.\n",
            "  self._init_dates(dates, freq)\n",
            "/work/projects/gcrp/.venv/lib/python3.12/site-packages/statsmodels/tsa/base/tsa_model.py:473: ValueWarning: No frequency information was provided, so inferred frequency YS-JAN will be used.\n",
            "  self._init_dates(dates, freq)\n"
          ]
        },
        {
          "name": "stdout",
          "output_type": "stream",
          "text": [
            "  Order: (1, 0, 0), AIC: 223.84257480683672\n",
            "  Order: (1, 1, 1), AIC: 221.30014233729793\n",
            "  Order: (1, 0, 0), AIC: -2.7605535421391085\n"
          ]
        },
        {
          "name": "stderr",
          "output_type": "stream",
          "text": [
            "/work/projects/gcrp/.venv/lib/python3.12/site-packages/statsmodels/tsa/base/tsa_model.py:473: ValueWarning: No frequency information was provided, so inferred frequency YS-JAN will be used.\n",
            "  self._init_dates(dates, freq)\n",
            "/work/projects/gcrp/.venv/lib/python3.12/site-packages/statsmodels/tsa/base/tsa_model.py:473: ValueWarning: No frequency information was provided, so inferred frequency YS-JAN will be used.\n",
            "  self._init_dates(dates, freq)\n",
            "/work/projects/gcrp/.venv/lib/python3.12/site-packages/statsmodels/tsa/base/tsa_model.py:473: ValueWarning: No frequency information was provided, so inferred frequency YS-JAN will be used.\n",
            "  self._init_dates(dates, freq)\n",
            "/work/projects/gcrp/.venv/lib/python3.12/site-packages/statsmodels/tsa/base/tsa_model.py:473: ValueWarning: No frequency information was provided, so inferred frequency YS-JAN will be used.\n",
            "  self._init_dates(dates, freq)\n"
          ]
        },
        {
          "name": "stdout",
          "output_type": "stream",
          "text": [
            "  Order: (1, 0, 0), AIC: 109.80785023064351\n",
            "  Order: (1, 1, 1), AIC: 101.50007150497282\n"
          ]
        },
        {
          "name": "stderr",
          "output_type": "stream",
          "text": [
            "/work/projects/gcrp/.venv/lib/python3.12/site-packages/statsmodels/tsa/base/tsa_model.py:473: ValueWarning: No frequency information was provided, so inferred frequency YS-JAN will be used.\n",
            "  self._init_dates(dates, freq)\n"
          ]
        },
        {
          "name": "stdout",
          "output_type": "stream",
          "text": [
            "  Order: (1, 0, 0), AIC: 85.50317803909671\n"
          ]
        },
        {
          "name": "stderr",
          "output_type": "stream",
          "text": [
            "/work/projects/gcrp/.venv/lib/python3.12/site-packages/statsmodels/tsa/base/tsa_model.py:473: ValueWarning: No frequency information was provided, so inferred frequency YS-JAN will be used.\n",
            "  self._init_dates(dates, freq)\n"
          ]
        },
        {
          "name": "stdout",
          "output_type": "stream",
          "text": [
            "  Order: (1, 1, 1), AIC: 71.42752791861834\n",
            "  Order: (1, 0, 0), AIC: 112.2804502322374\n"
          ]
        },
        {
          "name": "stderr",
          "output_type": "stream",
          "text": [
            "/work/projects/gcrp/.venv/lib/python3.12/site-packages/statsmodels/tsa/base/tsa_model.py:473: ValueWarning: No frequency information was provided, so inferred frequency YS-JAN will be used.\n",
            "  self._init_dates(dates, freq)\n",
            "/work/projects/gcrp/.venv/lib/python3.12/site-packages/statsmodels/tsa/base/tsa_model.py:473: ValueWarning: No frequency information was provided, so inferred frequency YS-JAN will be used.\n",
            "  self._init_dates(dates, freq)\n"
          ]
        },
        {
          "name": "stdout",
          "output_type": "stream",
          "text": [
            "  Order: (1, 1, 1), AIC: 104.32365294004292\n"
          ]
        },
        {
          "name": "stderr",
          "output_type": "stream",
          "text": [
            "/work/projects/gcrp/.venv/lib/python3.12/site-packages/statsmodels/tsa/base/tsa_model.py:473: ValueWarning: No frequency information was provided, so inferred frequency YS-JAN will be used.\n",
            "  self._init_dates(dates, freq)\n"
          ]
        },
        {
          "name": "stdout",
          "output_type": "stream",
          "text": [
            "  Order: (1, 0, 0), AIC: 102.10218137628506\n"
          ]
        },
        {
          "name": "stderr",
          "output_type": "stream",
          "text": [
            "/work/projects/gcrp/.venv/lib/python3.12/site-packages/statsmodels/tsa/base/tsa_model.py:473: ValueWarning: No frequency information was provided, so inferred frequency YS-JAN will be used.\n",
            "  self._init_dates(dates, freq)\n",
            "/work/projects/gcrp/.venv/lib/python3.12/site-packages/statsmodels/tsa/base/tsa_model.py:473: ValueWarning: No frequency information was provided, so inferred frequency YS-JAN will be used.\n",
            "  self._init_dates(dates, freq)\n"
          ]
        },
        {
          "name": "stdout",
          "output_type": "stream",
          "text": [
            "  Order: (1, 0, 0), AIC: 109.82336368261952\n"
          ]
        },
        {
          "name": "stderr",
          "output_type": "stream",
          "text": [
            "/work/projects/gcrp/.venv/lib/python3.12/site-packages/statsmodels/tsa/base/tsa_model.py:473: ValueWarning: No frequency information was provided, so inferred frequency YS-JAN will be used.\n",
            "  self._init_dates(dates, freq)\n"
          ]
        },
        {
          "name": "stdout",
          "output_type": "stream",
          "text": [
            "  Order: (1, 1, 1), AIC: 100.1687334904766\n",
            "  Order: (1, 0, 0), AIC: -10.707443021251535\n"
          ]
        },
        {
          "name": "stderr",
          "output_type": "stream",
          "text": [
            "/work/projects/gcrp/.venv/lib/python3.12/site-packages/statsmodels/tsa/base/tsa_model.py:473: ValueWarning: No frequency information was provided, so inferred frequency YS-JAN will be used.\n",
            "  self._init_dates(dates, freq)\n",
            "/work/projects/gcrp/.venv/lib/python3.12/site-packages/statsmodels/tsa/base/tsa_model.py:473: ValueWarning: No frequency information was provided, so inferred frequency YS-JAN will be used.\n",
            "  self._init_dates(dates, freq)\n",
            "/work/projects/gcrp/.venv/lib/python3.12/site-packages/statsmodels/tsa/statespace/sarimax.py:978: UserWarning: Non-invertible starting MA parameters found. Using zeros as starting parameters.\n",
            "  warn('Non-invertible starting MA parameters found.'\n"
          ]
        },
        {
          "name": "stdout",
          "output_type": "stream",
          "text": [
            "  Order: (1, 1, 1), AIC: -14.94265693946975\n",
            "  Order: (1, 0, 0), AIC: 109.23118404151757\n"
          ]
        },
        {
          "name": "stderr",
          "output_type": "stream",
          "text": [
            "/work/projects/gcrp/.venv/lib/python3.12/site-packages/statsmodels/tsa/base/tsa_model.py:473: ValueWarning: No frequency information was provided, so inferred frequency YS-JAN will be used.\n",
            "  self._init_dates(dates, freq)\n",
            "/work/projects/gcrp/.venv/lib/python3.12/site-packages/statsmodels/tsa/base/tsa_model.py:473: ValueWarning: No frequency information was provided, so inferred frequency YS-JAN will be used.\n",
            "  self._init_dates(dates, freq)\n"
          ]
        },
        {
          "name": "stdout",
          "output_type": "stream",
          "text": [
            "  Order: (1, 1, 1), AIC: 103.0595605775273\n",
            "  Order: (1, 0, 0), AIC: 104.62444061486393\n"
          ]
        },
        {
          "name": "stderr",
          "output_type": "stream",
          "text": [
            "/work/projects/gcrp/.venv/lib/python3.12/site-packages/statsmodels/tsa/base/tsa_model.py:473: ValueWarning: No frequency information was provided, so inferred frequency YS-JAN will be used.\n",
            "  self._init_dates(dates, freq)\n",
            "/work/projects/gcrp/.venv/lib/python3.12/site-packages/statsmodels/tsa/base/tsa_model.py:473: ValueWarning: No frequency information was provided, so inferred frequency YS-JAN will be used.\n",
            "  self._init_dates(dates, freq)\n",
            "/work/projects/gcrp/.venv/lib/python3.12/site-packages/statsmodels/tsa/base/tsa_model.py:473: ValueWarning: No frequency information was provided, so inferred frequency YS-JAN will be used.\n",
            "  self._init_dates(dates, freq)\n",
            "/work/projects/gcrp/.venv/lib/python3.12/site-packages/statsmodels/tsa/base/tsa_model.py:473: ValueWarning: No frequency information was provided, so inferred frequency YS-JAN will be used.\n",
            "  self._init_dates(dates, freq)\n"
          ]
        },
        {
          "name": "stdout",
          "output_type": "stream",
          "text": [
            "  Order: (1, 0, 0), AIC: -21.09485053236117\n"
          ]
        },
        {
          "name": "stderr",
          "output_type": "stream",
          "text": [
            "/work/projects/gcrp/.venv/lib/python3.12/site-packages/statsmodels/tsa/base/tsa_model.py:473: ValueWarning: No frequency information was provided, so inferred frequency YS-JAN will be used.\n",
            "  self._init_dates(dates, freq)\n",
            "/work/projects/gcrp/.venv/lib/python3.12/site-packages/statsmodels/tsa/base/tsa_model.py:473: ValueWarning: No frequency information was provided, so inferred frequency YS-JAN will be used.\n",
            "  self._init_dates(dates, freq)\n"
          ]
        },
        {
          "name": "stdout",
          "output_type": "stream",
          "text": [
            "  Order: (1, 0, 0), AIC: 49.54036157163743\n",
            "  Order: (1, 1, 1), AIC: 46.92469538511926\n",
            "  Order: (1, 0, 0), AIC: 45.09995932082619\n"
          ]
        },
        {
          "name": "stderr",
          "output_type": "stream",
          "text": [
            "/work/projects/gcrp/.venv/lib/python3.12/site-packages/statsmodels/tsa/base/tsa_model.py:473: ValueWarning: No frequency information was provided, so inferred frequency YS-JAN will be used.\n",
            "  self._init_dates(dates, freq)\n",
            "/work/projects/gcrp/.venv/lib/python3.12/site-packages/statsmodels/tsa/base/tsa_model.py:473: ValueWarning: No frequency information was provided, so inferred frequency YS-JAN will be used.\n",
            "  self._init_dates(dates, freq)\n"
          ]
        },
        {
          "name": "stdout",
          "output_type": "stream",
          "text": [
            "  Order: (1, 1, 1), AIC: 44.07263118916261\n"
          ]
        },
        {
          "name": "stderr",
          "output_type": "stream",
          "text": [
            "/work/projects/gcrp/.venv/lib/python3.12/site-packages/statsmodels/tsa/base/tsa_model.py:473: ValueWarning: No frequency information was provided, so inferred frequency YS-JAN will be used.\n",
            "  self._init_dates(dates, freq)\n"
          ]
        },
        {
          "name": "stdout",
          "output_type": "stream",
          "text": [
            "  Order: (1, 0, 0), AIC: 94.80433869686763\n"
          ]
        },
        {
          "name": "stderr",
          "output_type": "stream",
          "text": [
            "/work/projects/gcrp/.venv/lib/python3.12/site-packages/statsmodels/tsa/base/tsa_model.py:473: ValueWarning: No frequency information was provided, so inferred frequency YS-JAN will be used.\n",
            "  self._init_dates(dates, freq)\n"
          ]
        },
        {
          "name": "stdout",
          "output_type": "stream",
          "text": [
            "  Order: (1, 1, 1), AIC: 83.41357602902005\n"
          ]
        },
        {
          "name": "stderr",
          "output_type": "stream",
          "text": [
            "/work/projects/gcrp/.venv/lib/python3.12/site-packages/statsmodels/tsa/base/tsa_model.py:473: ValueWarning: No frequency information was provided, so inferred frequency YS-JAN will be used.\n",
            "  self._init_dates(dates, freq)\n"
          ]
        },
        {
          "name": "stdout",
          "output_type": "stream",
          "text": [
            "  Order: (1, 0, 0), AIC: 99.70343263953396\n"
          ]
        },
        {
          "name": "stderr",
          "output_type": "stream",
          "text": [
            "/work/projects/gcrp/.venv/lib/python3.12/site-packages/statsmodels/tsa/base/tsa_model.py:473: ValueWarning: No frequency information was provided, so inferred frequency YS-JAN will be used.\n",
            "  self._init_dates(dates, freq)\n",
            "/work/projects/gcrp/.venv/lib/python3.12/site-packages/statsmodels/tsa/statespace/sarimax.py:966: UserWarning: Non-stationary starting autoregressive parameters found. Using zeros as starting parameters.\n",
            "  warn('Non-stationary starting autoregressive parameters'\n",
            "/work/projects/gcrp/.venv/lib/python3.12/site-packages/statsmodels/tsa/statespace/sarimax.py:978: UserWarning: Non-invertible starting MA parameters found. Using zeros as starting parameters.\n",
            "  warn('Non-invertible starting MA parameters found.'\n"
          ]
        },
        {
          "name": "stdout",
          "output_type": "stream",
          "text": [
            "  Order: (1, 1, 1), AIC: 94.55106475877277\n"
          ]
        },
        {
          "name": "stderr",
          "output_type": "stream",
          "text": [
            "/work/projects/gcrp/.venv/lib/python3.12/site-packages/statsmodels/tsa/base/tsa_model.py:473: ValueWarning: No frequency information was provided, so inferred frequency YS-JAN will be used.\n",
            "  self._init_dates(dates, freq)\n"
          ]
        },
        {
          "name": "stdout",
          "output_type": "stream",
          "text": [
            "  Order: (1, 0, 0), AIC: 157.48486315889568\n"
          ]
        },
        {
          "name": "stderr",
          "output_type": "stream",
          "text": [
            "/work/projects/gcrp/.venv/lib/python3.12/site-packages/statsmodels/tsa/base/tsa_model.py:473: ValueWarning: No frequency information was provided, so inferred frequency YS-JAN will be used.\n",
            "  self._init_dates(dates, freq)\n",
            "/work/projects/gcrp/.venv/lib/python3.12/site-packages/statsmodels/tsa/statespace/sarimax.py:966: UserWarning: Non-stationary starting autoregressive parameters found. Using zeros as starting parameters.\n",
            "  warn('Non-stationary starting autoregressive parameters'\n",
            "/work/projects/gcrp/.venv/lib/python3.12/site-packages/statsmodels/tsa/statespace/sarimax.py:978: UserWarning: Non-invertible starting MA parameters found. Using zeros as starting parameters.\n",
            "  warn('Non-invertible starting MA parameters found.'\n",
            "/work/projects/gcrp/.venv/lib/python3.12/site-packages/statsmodels/tsa/base/tsa_model.py:473: ValueWarning: No frequency information was provided, so inferred frequency YS-JAN will be used.\n",
            "  self._init_dates(dates, freq)\n",
            "/work/projects/gcrp/.venv/lib/python3.12/site-packages/statsmodels/tsa/base/tsa_model.py:473: ValueWarning: No frequency information was provided, so inferred frequency YS-JAN will be used.\n",
            "  self._init_dates(dates, freq)\n",
            "/work/projects/gcrp/.venv/lib/python3.12/site-packages/statsmodels/tsa/statespace/sarimax.py:978: UserWarning: Non-invertible starting MA parameters found. Using zeros as starting parameters.\n",
            "  warn('Non-invertible starting MA parameters found.'\n"
          ]
        },
        {
          "name": "stdout",
          "output_type": "stream",
          "text": [
            "  Order: (1, 0, 0), AIC: 127.88140238934307\n"
          ]
        },
        {
          "name": "stderr",
          "output_type": "stream",
          "text": [
            "/work/projects/gcrp/.venv/lib/python3.12/site-packages/statsmodels/tsa/base/tsa_model.py:473: ValueWarning: No frequency information was provided, so inferred frequency YS-JAN will be used.\n",
            "  self._init_dates(dates, freq)\n",
            "/work/projects/gcrp/.venv/lib/python3.12/site-packages/statsmodels/tsa/base/tsa_model.py:473: ValueWarning: No frequency information was provided, so inferred frequency YS-JAN will be used.\n",
            "  self._init_dates(dates, freq)\n"
          ]
        },
        {
          "name": "stdout",
          "output_type": "stream",
          "text": [
            "  Order: (1, 0, 0), AIC: 156.4649289695365\n",
            "  Order: (1, 1, 1), AIC: 155.20473507323248\n"
          ]
        },
        {
          "name": "stderr",
          "output_type": "stream",
          "text": [
            "/work/projects/gcrp/.venv/lib/python3.12/site-packages/statsmodels/tsa/base/tsa_model.py:473: ValueWarning: No frequency information was provided, so inferred frequency YS-JAN will be used.\n",
            "  self._init_dates(dates, freq)\n",
            "/work/projects/gcrp/.venv/lib/python3.12/site-packages/statsmodels/tsa/base/tsa_model.py:473: ValueWarning: No frequency information was provided, so inferred frequency YS-JAN will be used.\n",
            "  self._init_dates(dates, freq)\n"
          ]
        },
        {
          "name": "stdout",
          "output_type": "stream",
          "text": [
            "  Order: (1, 0, 0), AIC: 108.57775244444363\n",
            "  Order: (1, 1, 1), AIC: 106.62340419830997\n",
            "  Order: (1, 0, 0), AIC: 106.8648279582218\n"
          ]
        },
        {
          "name": "stderr",
          "output_type": "stream",
          "text": [
            "/work/projects/gcrp/.venv/lib/python3.12/site-packages/statsmodels/tsa/base/tsa_model.py:473: ValueWarning: No frequency information was provided, so inferred frequency YS-JAN will be used.\n",
            "  self._init_dates(dates, freq)\n",
            "/work/projects/gcrp/.venv/lib/python3.12/site-packages/statsmodels/tsa/base/tsa_model.py:473: ValueWarning: No frequency information was provided, so inferred frequency YS-JAN will be used.\n",
            "  self._init_dates(dates, freq)\n"
          ]
        },
        {
          "name": "stdout",
          "output_type": "stream",
          "text": [
            "  Order: (1, 1, 1), AIC: 95.30491044109048\n",
            "  Order: (1, 0, 0), AIC: 118.46616595082959\n"
          ]
        },
        {
          "name": "stderr",
          "output_type": "stream",
          "text": [
            "/work/projects/gcrp/.venv/lib/python3.12/site-packages/statsmodels/tsa/base/tsa_model.py:473: ValueWarning: No frequency information was provided, so inferred frequency YS-JAN will be used.\n",
            "  self._init_dates(dates, freq)\n",
            "/work/projects/gcrp/.venv/lib/python3.12/site-packages/statsmodels/tsa/base/tsa_model.py:473: ValueWarning: No frequency information was provided, so inferred frequency YS-JAN will be used.\n",
            "  self._init_dates(dates, freq)\n"
          ]
        },
        {
          "name": "stdout",
          "output_type": "stream",
          "text": [
            "  Order: (1, 1, 1), AIC: 110.58270215385308\n",
            "  Order: (1, 0, 0), AIC: 65.51049652001328\n"
          ]
        },
        {
          "name": "stderr",
          "output_type": "stream",
          "text": [
            "/work/projects/gcrp/.venv/lib/python3.12/site-packages/statsmodels/tsa/base/tsa_model.py:473: ValueWarning: No frequency information was provided, so inferred frequency YS-JAN will be used.\n",
            "  self._init_dates(dates, freq)\n",
            "/work/projects/gcrp/.venv/lib/python3.12/site-packages/statsmodels/tsa/base/tsa_model.py:473: ValueWarning: No frequency information was provided, so inferred frequency YS-JAN will be used.\n",
            "  self._init_dates(dates, freq)\n"
          ]
        },
        {
          "name": "stdout",
          "output_type": "stream",
          "text": [
            "  Order: (1, 1, 1), AIC: 60.11414463036688\n"
          ]
        },
        {
          "name": "stderr",
          "output_type": "stream",
          "text": [
            "/work/projects/gcrp/.venv/lib/python3.12/site-packages/statsmodels/tsa/base/tsa_model.py:473: ValueWarning: No frequency information was provided, so inferred frequency YS-JAN will be used.\n",
            "  self._init_dates(dates, freq)\n"
          ]
        },
        {
          "name": "stdout",
          "output_type": "stream",
          "text": [
            "  Order: (1, 0, 0), AIC: 59.22177715846311\n"
          ]
        },
        {
          "name": "stderr",
          "output_type": "stream",
          "text": [
            "/work/projects/gcrp/.venv/lib/python3.12/site-packages/statsmodels/tsa/base/tsa_model.py:473: ValueWarning: No frequency information was provided, so inferred frequency YS-JAN will be used.\n",
            "  self._init_dates(dates, freq)\n"
          ]
        },
        {
          "name": "stdout",
          "output_type": "stream",
          "text": [
            "  Order: (1, 1, 1), AIC: 53.241895116665646\n",
            "Final model training complete.\n",
            "Successfully loaded 36 models.\n",
            "\n",
            "Starting Predictions\n",
            "INSIDE \n",
            "\n",
            "\n",
            " predict fn\n",
            "PReditctions for Marshall Islands is 2026-01-01    28.579253\n",
            "2027-01-01    28.536104\n",
            "2028-01-01    28.520684\n",
            "2029-01-01    28.515174\n",
            "2030-01-01    28.513205\n",
            "2031-01-01    28.512502\n",
            "2032-01-01    28.512250\n",
            "2033-01-01    28.512161\n",
            "2034-01-01    28.512128\n",
            "2035-01-01    28.512117\n",
            "Freq: YS-JAN, Name: predicted_mean, dtype: float64\n",
            "INSIDE \n",
            "\n",
            "\n",
            " predict fn\n",
            "PReditctions for France is 2026-01-01    14.221819\n",
            "2027-01-01    14.223238\n",
            "2028-01-01    14.223262\n",
            "2029-01-01    14.223263\n",
            "2030-01-01    14.223263\n",
            "2031-01-01    14.223263\n",
            "2032-01-01    14.223263\n",
            "2033-01-01    14.223263\n",
            "2034-01-01    14.223263\n",
            "2035-01-01    14.223263\n",
            "Freq: YS-JAN, Name: predicted_mean, dtype: float64\n",
            "INSIDE \n",
            "\n",
            "\n",
            " predict fn\n",
            "PReditctions for Iceland is 2026-01-01    5.993728\n",
            "2027-01-01    5.994546\n",
            "2028-01-01    5.994439\n",
            "2029-01-01    5.994453\n",
            "2030-01-01    5.994451\n",
            "2031-01-01    5.994451\n",
            "2032-01-01    5.994451\n",
            "2033-01-01    5.994451\n",
            "2034-01-01    5.994451\n",
            "2035-01-01    5.994451\n",
            "Freq: YS-JAN, Name: predicted_mean, dtype: float64\n",
            "INSIDE \n",
            "\n",
            "\n",
            " predict fn\n",
            "PReditctions for Palau is 2026-01-01    28.138366\n",
            "2027-01-01    28.091129\n",
            "2028-01-01    28.054926\n",
            "2029-01-01    28.027179\n",
            "2030-01-01    28.005914\n",
            "2031-01-01    27.989616\n",
            "2032-01-01    27.977125\n",
            "2033-01-01    27.967551\n",
            "2034-01-01    27.960214\n",
            "2035-01-01    27.954591\n",
            "Freq: YS-JAN, Name: predicted_mean, dtype: float64\n",
            "INSIDE \n",
            "\n",
            "\n",
            " predict fn\n",
            "PReditctions for China is 2026-01-01    18.169200\n",
            "2027-01-01    18.062526\n",
            "2028-01-01    18.129780\n",
            "2029-01-01    18.087379\n",
            "2030-01-01    18.114111\n",
            "2031-01-01    18.097257\n",
            "2032-01-01    18.107883\n",
            "2033-01-01    18.101184\n",
            "2034-01-01    18.105407\n",
            "2035-01-01    18.102745\n",
            "Freq: YS-JAN, Name: predicted_mean, dtype: float64\n",
            "INSIDE \n",
            "\n",
            "\n",
            " predict fn\n",
            "PReditctions for Slovakia is 2026-01-01    8.048339\n",
            "2027-01-01    8.027631\n",
            "2028-01-01    8.019330\n",
            "2029-01-01    8.016003\n",
            "2030-01-01    8.014670\n",
            "2031-01-01    8.014135\n",
            "2032-01-01    8.013921\n",
            "2033-01-01    8.013835\n",
            "2034-01-01    8.013801\n",
            "2035-01-01    8.013787\n",
            "Freq: YS-JAN, Name: predicted_mean, dtype: float64\n",
            "INSIDE \n",
            "\n",
            "\n",
            " predict fn\n",
            "PReditctions for United Kingdom is 2026-01-01    9.736565\n",
            "2027-01-01    9.738414\n",
            "2028-01-01    9.738621\n",
            "2029-01-01    9.738644\n",
            "2030-01-01    9.738646\n",
            "2031-01-01    9.738646\n",
            "2032-01-01    9.738646\n",
            "2033-01-01    9.738646\n",
            "2034-01-01    9.738646\n",
            "2035-01-01    9.738646\n",
            "Freq: YS-JAN, Name: predicted_mean, dtype: float64\n",
            "INSIDE \n",
            "\n",
            "\n",
            " predict fn\n",
            "PReditctions for American Samoa [United States] is 2026-01-01    28.158549\n",
            "2027-01-01    28.159452\n",
            "2028-01-01    28.159446\n",
            "2029-01-01    28.159446\n",
            "2030-01-01    28.159446\n",
            "2031-01-01    28.159446\n",
            "2032-01-01    28.159446\n",
            "2033-01-01    28.159446\n",
            "2034-01-01    28.159446\n",
            "2035-01-01    28.159446\n",
            "Freq: YS-JAN, Name: predicted_mean, dtype: float64\n",
            "INSIDE \n",
            "\n",
            "\n",
            " predict fn\n",
            "PReditctions for Netherlands is 2026-01-01    11.291256\n",
            "2027-01-01    11.256986\n",
            "2028-01-01    11.253182\n",
            "2029-01-01    11.252760\n",
            "2030-01-01    11.252713\n",
            "2031-01-01    11.252708\n",
            "2032-01-01    11.252708\n",
            "2033-01-01    11.252708\n",
            "2034-01-01    11.252708\n",
            "2035-01-01    11.252708\n",
            "Freq: YS-JAN, Name: predicted_mean, dtype: float64\n",
            "INSIDE \n",
            "\n",
            "\n",
            " predict fn\n",
            "PReditctions for Hungary is 2026-01-01    12.648918\n",
            "2027-01-01    12.641665\n",
            "2028-01-01    12.640635\n",
            "2029-01-01    12.640488\n",
            "2030-01-01    12.640468\n",
            "2031-01-01    12.640465\n",
            "2032-01-01    12.640464\n",
            "2033-01-01    12.640464\n",
            "2034-01-01    12.640464\n",
            "2035-01-01    12.640464\n",
            "Freq: YS-JAN, Name: predicted_mean, dtype: float64\n",
            "INSIDE \n",
            "\n",
            "\n",
            " predict fn\n",
            "PReditctions for Croatia is 2026-01-01    13.571365\n",
            "2027-01-01    13.589341\n",
            "2028-01-01    13.593869\n",
            "2029-01-01    13.595009\n",
            "2030-01-01    13.595297\n",
            "2031-01-01    13.595369\n",
            "2032-01-01    13.595387\n",
            "2033-01-01    13.595392\n",
            "2034-01-01    13.595393\n",
            "2035-01-01    13.595393\n",
            "Freq: YS-JAN, Name: predicted_mean, dtype: float64\n",
            "INSIDE \n",
            "\n",
            "\n",
            " predict fn\n",
            "PReditctions for South Africa is 2026-01-01    15.625468\n",
            "2027-01-01    15.912032\n",
            "2028-01-01    16.025225\n",
            "2029-01-01    16.069937\n",
            "2030-01-01    16.087599\n",
            "2031-01-01    16.094575\n",
            "2032-01-01    16.097331\n",
            "2033-01-01    16.098419\n",
            "2034-01-01    16.098849\n",
            "2035-01-01    16.099019\n",
            "Freq: YS-JAN, Name: predicted_mean, dtype: float64\n",
            "INSIDE \n",
            "\n",
            "\n",
            " predict fn\n",
            "PReditctions for Svalbard [Norway] is 2026-01-01   -2.777333\n",
            "2027-01-01   -3.077103\n",
            "2028-01-01   -3.315255\n",
            "2029-01-01   -3.504453\n",
            "2030-01-01   -3.654761\n",
            "2031-01-01   -3.774173\n",
            "2032-01-01   -3.869039\n",
            "2033-01-01   -3.944404\n",
            "2034-01-01   -4.004279\n",
            "2035-01-01   -4.051845\n",
            "Freq: YS-JAN, Name: predicted_mean, dtype: float64\n",
            "INSIDE \n",
            "\n",
            "\n",
            " predict fn\n",
            "PReditctions for Norway is 2026-01-01    3.667942\n",
            "2027-01-01    3.526375\n",
            "2028-01-01    3.488708\n",
            "2029-01-01    3.478685\n",
            "2030-01-01    3.476019\n",
            "2031-01-01    3.475309\n",
            "2032-01-01    3.475120\n",
            "2033-01-01    3.475070\n",
            "2034-01-01    3.475057\n",
            "2035-01-01    3.475053\n",
            "Freq: YS-JAN, Name: predicted_mean, dtype: float64\n",
            "INSIDE \n",
            "\n",
            "\n",
            " predict fn\n",
            "PReditctions for Luxembourg is 2026-01-01    10.732447\n",
            "2027-01-01    10.744113\n",
            "2028-01-01    10.745141\n",
            "2029-01-01    10.745232\n",
            "2030-01-01    10.745240\n",
            "2031-01-01    10.745240\n",
            "2032-01-01    10.745240\n",
            "2033-01-01    10.745240\n",
            "2034-01-01    10.745240\n",
            "2035-01-01    10.745240\n",
            "Freq: YS-JAN, Name: predicted_mean, dtype: float64\n",
            "INSIDE \n",
            "\n",
            "\n",
            " predict fn\n",
            "PReditctions for Greenland [Denmark] is 2026-01-01   -9.340055\n",
            "2027-01-01   -9.019178\n",
            "2028-01-01   -8.922039\n",
            "2029-01-01   -8.892632\n",
            "2030-01-01   -8.883730\n",
            "2031-01-01   -8.881035\n",
            "2032-01-01   -8.880219\n",
            "2033-01-01   -8.879972\n",
            "2034-01-01   -8.879897\n",
            "2035-01-01   -8.879875\n",
            "Freq: YS-JAN, Name: predicted_mean, dtype: float64\n",
            "INSIDE \n",
            "\n",
            "\n",
            " predict fn\n",
            "PReditctions for Guam [United States] is 2026-01-01    27.520840\n",
            "2027-01-01    27.600291\n",
            "2028-01-01    27.652530\n",
            "2029-01-01    27.686877\n",
            "2030-01-01    27.709460\n",
            "2031-01-01    27.724308\n",
            "2032-01-01    27.734070\n",
            "2033-01-01    27.740489\n",
            "2034-01-01    27.744709\n",
            "2035-01-01    27.747484\n",
            "Freq: YS-JAN, Name: predicted_mean, dtype: float64\n",
            "INSIDE \n",
            "\n",
            "\n",
            " predict fn\n",
            "PReditctions for Puerto Rico [United States] is 2026-01-01    27.819609\n",
            "2027-01-01    27.813442\n",
            "2028-01-01    27.812969\n",
            "2029-01-01    27.812933\n",
            "2030-01-01    27.812930\n",
            "2031-01-01    27.812930\n",
            "2032-01-01    27.812930\n",
            "2033-01-01    27.812930\n",
            "2034-01-01    27.812930\n",
            "2035-01-01    27.812930\n",
            "Freq: YS-JAN, Name: predicted_mean, dtype: float64\n",
            "INSIDE \n",
            "\n",
            "\n",
            " predict fn\n",
            "PReditctions for Antarctica is 2026-01-01   -10.598241\n",
            "2027-01-01   -10.598426\n",
            "2028-01-01   -10.598406\n",
            "2029-01-01   -10.598408\n",
            "2030-01-01   -10.598408\n",
            "2031-01-01   -10.598408\n",
            "2032-01-01   -10.598408\n",
            "2033-01-01   -10.598408\n",
            "2034-01-01   -10.598408\n",
            "2035-01-01   -10.598408\n",
            "Freq: YS-JAN, Name: predicted_mean, dtype: float64\n",
            "INSIDE \n",
            "\n",
            "\n",
            " predict fn\n",
            "PReditctions for Ukraine is 2026-01-01    10.644040\n",
            "2027-01-01    10.615760\n",
            "2028-01-01    10.608212\n",
            "2029-01-01    10.606198\n",
            "2030-01-01    10.605660\n",
            "2031-01-01    10.605517\n",
            "2032-01-01    10.605479\n",
            "2033-01-01    10.605468\n",
            "2034-01-01    10.605466\n",
            "2035-01-01    10.605465\n",
            "Freq: YS-JAN, Name: predicted_mean, dtype: float64\n",
            "INSIDE \n",
            "\n",
            "\n",
            " predict fn\n",
            "PReditctions for Latvia is 2026-01-01    7.815781\n",
            "2027-01-01    7.769613\n",
            "2028-01-01    7.744304\n",
            "2029-01-01    7.730430\n",
            "2030-01-01    7.722825\n",
            "2031-01-01    7.718656\n",
            "2032-01-01    7.716370\n",
            "2033-01-01    7.715117\n",
            "2034-01-01    7.714431\n",
            "2035-01-01    7.714054\n",
            "Freq: YS-JAN, Name: predicted_mean, dtype: float64\n",
            "INSIDE \n",
            "\n",
            "\n",
            " predict fn\n",
            "PReditctions for Sweden is 2026-01-01    5.826160\n",
            "2027-01-01    5.835653\n",
            "2028-01-01    5.833428\n",
            "2029-01-01    5.833950\n",
            "2030-01-01    5.833828\n",
            "2031-01-01    5.833856\n",
            "2032-01-01    5.833850\n",
            "2033-01-01    5.833851\n",
            "2034-01-01    5.833851\n",
            "2035-01-01    5.833851\n",
            "Freq: YS-JAN, Name: predicted_mean, dtype: float64\n",
            "INSIDE \n",
            "\n",
            "\n",
            " predict fn\n",
            "PReditctions for Australia is 2026-01-01    21.515204\n",
            "2027-01-01    21.512720\n",
            "2028-01-01    21.512617\n",
            "2029-01-01    21.512612\n",
            "2030-01-01    21.512612\n",
            "2031-01-01    21.512612\n",
            "2032-01-01    21.512612\n",
            "2033-01-01    21.512612\n",
            "2034-01-01    21.512612\n",
            "2035-01-01    21.512612\n",
            "Freq: YS-JAN, Name: predicted_mean, dtype: float64\n",
            "INSIDE \n",
            "\n",
            "\n",
            " predict fn\n",
            "PReditctions for Cyprus is 2026-01-01    20.399830\n",
            "2027-01-01    20.399821\n",
            "2028-01-01    20.399821\n",
            "2029-01-01    20.399821\n",
            "2030-01-01    20.399821\n",
            "2031-01-01    20.399821\n",
            "2032-01-01    20.399821\n",
            "2033-01-01    20.399821\n",
            "2034-01-01    20.399821\n",
            "2035-01-01    20.399821\n",
            "Freq: YS-JAN, Name: predicted_mean, dtype: float64\n",
            "INSIDE \n",
            "\n",
            "\n",
            " predict fn\n",
            "PReditctions for Jan Mayen [Norway] is 2026-01-01    0.806746\n",
            "2027-01-01    0.821170\n",
            "2028-01-01    0.823119\n",
            "2029-01-01    0.823382\n",
            "2030-01-01    0.823418\n",
            "2031-01-01    0.823423\n",
            "2032-01-01    0.823423\n",
            "2033-01-01    0.823423\n",
            "2034-01-01    0.823423\n",
            "2035-01-01    0.823423\n",
            "Freq: YS-JAN, Name: predicted_mean, dtype: float64\n",
            "INSIDE \n",
            "\n",
            "\n",
            " predict fn\n",
            "PReditctions for Russia is 2026-01-01   -1.182590\n",
            "2027-01-01   -1.183081\n",
            "2028-01-01   -1.183067\n",
            "2029-01-01   -1.183068\n",
            "2030-01-01   -1.183068\n",
            "2031-01-01   -1.183068\n",
            "2032-01-01   -1.183068\n",
            "2033-01-01   -1.183068\n",
            "2034-01-01   -1.183068\n",
            "2035-01-01   -1.183068\n",
            "Freq: YS-JAN, Name: predicted_mean, dtype: float64\n",
            "INSIDE \n",
            "\n",
            "\n",
            " predict fn\n",
            "PReditctions for Spain is 2026-01-01    15.466511\n",
            "2027-01-01    15.460369\n",
            "2028-01-01    15.460300\n",
            "2029-01-01    15.460299\n",
            "2030-01-01    15.460299\n",
            "2031-01-01    15.460299\n",
            "2032-01-01    15.460299\n",
            "2033-01-01    15.460299\n",
            "2034-01-01    15.460299\n",
            "2035-01-01    15.460299\n",
            "Freq: YS-JAN, Name: predicted_mean, dtype: float64\n",
            "INSIDE \n",
            "\n",
            "\n",
            " predict fn\n",
            "PReditctions for Switzerland is 2026-01-01    0.857646\n",
            "2027-01-01    0.893244\n",
            "2028-01-01    0.888910\n",
            "2029-01-01    0.889437\n",
            "2030-01-01    0.889373\n",
            "2031-01-01    0.889381\n",
            "2032-01-01    0.889380\n",
            "2033-01-01    0.889380\n",
            "2034-01-01    0.889380\n",
            "2035-01-01    0.889380\n",
            "Freq: YS-JAN, Name: predicted_mean, dtype: float64\n",
            "INSIDE \n",
            "\n",
            "\n",
            " predict fn\n",
            "PReditctions for Germany is 2026-01-01    10.829540\n",
            "2027-01-01    10.776210\n",
            "2028-01-01    10.767977\n",
            "2029-01-01    10.766706\n",
            "2030-01-01    10.766510\n",
            "2031-01-01    10.766480\n",
            "2032-01-01    10.766475\n",
            "2033-01-01    10.766474\n",
            "2034-01-01    10.766474\n",
            "2035-01-01    10.766474\n",
            "Freq: YS-JAN, Name: predicted_mean, dtype: float64\n",
            "INSIDE \n",
            "\n",
            "\n",
            " predict fn\n",
            "PReditctions for United States is 2026-01-01    12.157454\n",
            "2027-01-01    12.120583\n",
            "2028-01-01    12.109784\n",
            "2029-01-01    12.106621\n",
            "2030-01-01    12.105694\n",
            "2031-01-01    12.105423\n",
            "2032-01-01    12.105343\n",
            "2033-01-01    12.105320\n",
            "2034-01-01    12.105313\n",
            "2035-01-01    12.105311\n",
            "Freq: YS-JAN, Name: predicted_mean, dtype: float64\n",
            "INSIDE \n",
            "\n",
            "\n",
            " predict fn\n",
            "PReditctions for Finland is 2026-01-01    3.809015\n",
            "2027-01-01    3.785658\n",
            "2028-01-01    3.783783\n",
            "2029-01-01    3.783633\n",
            "2030-01-01    3.783621\n",
            "2031-01-01    3.783620\n",
            "2032-01-01    3.783620\n",
            "2033-01-01    3.783620\n",
            "2034-01-01    3.783620\n",
            "2035-01-01    3.783620\n",
            "Freq: YS-JAN, Name: predicted_mean, dtype: float64\n",
            "INSIDE \n",
            "\n",
            "\n",
            " predict fn\n",
            "PReditctions for Estonia is 2026-01-01    7.659853\n",
            "2027-01-01    7.517218\n",
            "2028-01-01    7.479552\n",
            "2029-01-01    7.469606\n",
            "2030-01-01    7.466979\n",
            "2031-01-01    7.466286\n",
            "2032-01-01    7.466103\n",
            "2033-01-01    7.466054\n",
            "2034-01-01    7.466042\n",
            "2035-01-01    7.466038\n",
            "Freq: YS-JAN, Name: predicted_mean, dtype: float64\n",
            "INSIDE \n",
            "\n",
            "\n",
            " predict fn\n",
            "PReditctions for Portugal is 2026-01-01    17.687838\n",
            "2027-01-01    17.687123\n",
            "2028-01-01    17.687080\n",
            "2029-01-01    17.687078\n",
            "2030-01-01    17.687078\n",
            "2031-01-01    17.687078\n",
            "2032-01-01    17.687078\n",
            "2033-01-01    17.687078\n",
            "2034-01-01    17.687078\n",
            "2035-01-01    17.687078\n",
            "Freq: YS-JAN, Name: predicted_mean, dtype: float64\n",
            "INSIDE \n",
            "\n",
            "\n",
            " predict fn\n",
            "PReditctions for Federated States of Micronesia is 2026-01-01    28.420850\n",
            "2027-01-01    28.401995\n",
            "2028-01-01    28.397503\n",
            "2029-01-01    28.396433\n",
            "2030-01-01    28.396178\n",
            "2031-01-01    28.396117\n",
            "2032-01-01    28.396103\n",
            "2033-01-01    28.396099\n",
            "2034-01-01    28.396099\n",
            "2035-01-01    28.396098\n",
            "Freq: YS-JAN, Name: predicted_mean, dtype: float64\n",
            "INSIDE \n",
            "\n",
            "\n",
            " predict fn\n",
            "PReditctions for Canada is 2026-01-01   -1.775878\n",
            "2027-01-01   -1.854885\n",
            "2028-01-01   -1.863088\n",
            "2029-01-01   -1.863939\n",
            "2030-01-01   -1.864028\n",
            "2031-01-01   -1.864037\n",
            "2032-01-01   -1.864038\n",
            "2033-01-01   -1.864038\n",
            "2034-01-01   -1.864038\n",
            "2035-01-01   -1.864038\n",
            "Freq: YS-JAN, Name: predicted_mean, dtype: float64\n",
            "INSIDE \n",
            "\n",
            "\n",
            " predict fn\n",
            "PReditctions for Austria is 2026-01-01    6.828339\n",
            "2027-01-01    6.737406\n",
            "2028-01-01    6.710295\n",
            "2029-01-01    6.702211\n",
            "2030-01-01    6.699801\n",
            "2031-01-01    6.699083\n",
            "2032-01-01    6.698869\n",
            "2033-01-01    6.698805\n",
            "2034-01-01    6.698786\n",
            "2035-01-01    6.698780\n",
            "Freq: YS-JAN, Name: predicted_mean, dtype: float64\n",
            "\n",
            "Prediction complete.\n"
          ]
        },
        {
          "data": {
            "text/html": [
              "<div>\n",
              "<style scoped>\n",
              "    .dataframe tbody tr th:only-of-type {\n",
              "        vertical-align: middle;\n",
              "    }\n",
              "\n",
              "    .dataframe tbody tr th {\n",
              "        vertical-align: top;\n",
              "    }\n",
              "\n",
              "    .dataframe thead th {\n",
              "        text-align: right;\n",
              "    }\n",
              "</style>\n",
              "<table border=\"1\" class=\"dataframe\">\n",
              "  <thead>\n",
              "    <tr style=\"text-align: right;\">\n",
              "      <th></th>\n",
              "      <th>COUNTRY</th>\n",
              "      <th>DATE</th>\n",
              "      <th>TAVG</th>\n",
              "    </tr>\n",
              "  </thead>\n",
              "  <tbody>\n",
              "    <tr>\n",
              "      <th>0</th>\n",
              "      <td>Marshall Islands</td>\n",
              "      <td>2026-01-01</td>\n",
              "      <td>28.579253</td>\n",
              "    </tr>\n",
              "    <tr>\n",
              "      <th>1</th>\n",
              "      <td>Marshall Islands</td>\n",
              "      <td>2027-01-01</td>\n",
              "      <td>28.536104</td>\n",
              "    </tr>\n",
              "    <tr>\n",
              "      <th>2</th>\n",
              "      <td>Marshall Islands</td>\n",
              "      <td>2028-01-01</td>\n",
              "      <td>28.520684</td>\n",
              "    </tr>\n",
              "    <tr>\n",
              "      <th>3</th>\n",
              "      <td>Marshall Islands</td>\n",
              "      <td>2029-01-01</td>\n",
              "      <td>28.515174</td>\n",
              "    </tr>\n",
              "    <tr>\n",
              "      <th>4</th>\n",
              "      <td>Marshall Islands</td>\n",
              "      <td>2030-01-01</td>\n",
              "      <td>28.513205</td>\n",
              "    </tr>\n",
              "    <tr>\n",
              "      <th>...</th>\n",
              "      <td>...</td>\n",
              "      <td>...</td>\n",
              "      <td>...</td>\n",
              "    </tr>\n",
              "    <tr>\n",
              "      <th>355</th>\n",
              "      <td>Austria</td>\n",
              "      <td>2031-01-01</td>\n",
              "      <td>6.699083</td>\n",
              "    </tr>\n",
              "    <tr>\n",
              "      <th>356</th>\n",
              "      <td>Austria</td>\n",
              "      <td>2032-01-01</td>\n",
              "      <td>6.698869</td>\n",
              "    </tr>\n",
              "    <tr>\n",
              "      <th>357</th>\n",
              "      <td>Austria</td>\n",
              "      <td>2033-01-01</td>\n",
              "      <td>6.698805</td>\n",
              "    </tr>\n",
              "    <tr>\n",
              "      <th>358</th>\n",
              "      <td>Austria</td>\n",
              "      <td>2034-01-01</td>\n",
              "      <td>6.698786</td>\n",
              "    </tr>\n",
              "    <tr>\n",
              "      <th>359</th>\n",
              "      <td>Austria</td>\n",
              "      <td>2035-01-01</td>\n",
              "      <td>6.698780</td>\n",
              "    </tr>\n",
              "  </tbody>\n",
              "</table>\n",
              "<p>360 rows × 3 columns</p>\n",
              "</div>"
            ],
            "text/plain": [
              "              COUNTRY       DATE       TAVG\n",
              "0    Marshall Islands 2026-01-01  28.579253\n",
              "1    Marshall Islands 2027-01-01  28.536104\n",
              "2    Marshall Islands 2028-01-01  28.520684\n",
              "3    Marshall Islands 2029-01-01  28.515174\n",
              "4    Marshall Islands 2030-01-01  28.513205\n",
              "..                ...        ...        ...\n",
              "355           Austria 2031-01-01   6.699083\n",
              "356           Austria 2032-01-01   6.698869\n",
              "357           Austria 2033-01-01   6.698805\n",
              "358           Austria 2034-01-01   6.698786\n",
              "359           Austria 2035-01-01   6.698780\n",
              "\n",
              "[360 rows x 3 columns]"
            ]
          },
          "execution_count": 268,
          "metadata": {},
          "output_type": "execute_result"
        }
      ],
      "source": [
        "df_combined = combine_data_for_final_training(df_train, df_test)\n",
        "models_dir = f'{basePath}/modelsNew/trainedModels'\n",
        "column_name = 'TAVG'\n",
        "latest_models_dict = train_final_models(df_combined, column_name, arima_orders)\n",
        "save_trained_models(latest_models_dict, models_dir)\n",
        "\n",
        "# Assign the result of make_predictions to a new variable\n",
        "country_predictions = make_predictions(models_dir, df_combined, column_name, number_of_years=10)\n",
        "\n",
        "df_final_pred = []\n",
        "# Iterate over the new variable containing the predictions dictionary\n",
        "for country, predictions in country_predictions.items():\n",
        "    # Add a check to ensure 'predictions' is a pandas Series\n",
        "    if isinstance(predictions, pd.Series):\n",
        "        # Repeat the country name for each prediction\n",
        "        df_curr = pd.DataFrame({'COUNTRY': [country] * len(predictions), 'DATE': predictions.index, column_name: predictions.values})\n",
        "        df_final_pred.append(df_curr)\n",
        "    else:\n",
        "        print(f\"Skipping {country}: Predictions are not a pandas Series.\")\n",
        "\n",
        "\n",
        "df_final_pred = pd.concat(df_final_pred, ignore_index=True)\n",
        "df_final_pred"
      ]
    },
    {
      "cell_type": "code",
      "execution_count": 269,
      "metadata": {},
      "outputs": [],
      "source": [
        "df_final_pred.to_csv(f'{basePath}/data/processed/finalPredictions.csv', index=False)"
      ]
    },
    {
      "cell_type": "code",
      "execution_count": 270,
      "metadata": {},
      "outputs": [
        {
          "data": {
            "text/plain": [
              "36"
            ]
          },
          "execution_count": 270,
          "metadata": {},
          "output_type": "execute_result"
        }
      ],
      "source": [
        "df_final_pred['COUNTRY'].nunique()"
      ]
    },
    {
      "cell_type": "markdown",
      "metadata": {
        "id": "Pqfhnpyg9JBb"
      },
      "source": [
        "###**Top n Riskiest countries + Plotting**"
      ]
    }
  ],
  "metadata": {
    "colab": {
      "provenance": []
    },
    "kernelspec": {
      "display_name": ".venv",
      "language": "python",
      "name": "python3"
    },
    "language_info": {
      "codemirror_mode": {
        "name": "ipython",
        "version": 3
      },
      "file_extension": ".py",
      "mimetype": "text/x-python",
      "name": "python",
      "nbconvert_exporter": "python",
      "pygments_lexer": "ipython3",
      "version": "3.12.3"
    }
  },
  "nbformat": 4,
  "nbformat_minor": 0
}
