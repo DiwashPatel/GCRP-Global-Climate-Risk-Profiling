{
 "cells": [
  {
   "cell_type": "code",
   "execution_count": 12,
   "metadata": {
    "executionInfo": {
     "elapsed": 64,
     "status": "ok",
     "timestamp": 1753062218327,
     "user": {
      "displayName": "Logical",
      "userId": "15752721728629510545"
     },
     "user_tz": 300
    },
    "id": "qXd88_3gecU5"
   },
   "outputs": [],
   "source": [
    "import pandas as pd\n",
    "import numpy as np"
   ]
  },
  {
   "cell_type": "code",
   "execution_count": 13,
   "metadata": {
    "colab": {
     "base_uri": "https://localhost:8080/"
    },
    "executionInfo": {
     "elapsed": 830,
     "status": "ok",
     "timestamp": 1753062219167,
     "user": {
      "displayName": "Logical",
      "userId": "15752721728629510545"
     },
     "user_tz": 300
    },
    "id": "gQ7fQQD5orJ5",
    "outputId": "e550f905-4fab-45e0-a1af-f50476ef7d8b"
   },
   "outputs": [],
   "source": [
    "# Check if running in Google Colab\n",
    "if 'google.colab' in str(get_ipython()):\n",
    "    from google.colab import drive\n",
    "    drive.mount('/content/drive')\n",
    "\n",
    "    # Define the base path for your data directory for Colab\n",
    "    basePath = '/content/drive/MyDrive'\n",
    "\n",
    "else:\n",
    "    # Running locally or in a different environment\n",
    "    basePath = '..'"
   ]
  },
  {
   "cell_type": "code",
   "execution_count": 14,
   "metadata": {
    "colab": {
     "base_uri": "https://localhost:8080/",
     "height": 245
    },
    "executionInfo": {
     "elapsed": 730,
     "status": "ok",
     "timestamp": 1753062219887,
     "user": {
      "displayName": "Logical",
      "userId": "15752721728629510545"
     },
     "user_tz": 300
    },
    "id": "hg3juP_yhNH2",
    "outputId": "9a225c4f-b889-4718-b302-d2361d2d24b6"
   },
   "outputs": [
    {
     "data": {
      "text/html": [
       "<div>\n",
       "<style scoped>\n",
       "    .dataframe tbody tr th:only-of-type {\n",
       "        vertical-align: middle;\n",
       "    }\n",
       "\n",
       "    .dataframe tbody tr th {\n",
       "        vertical-align: top;\n",
       "    }\n",
       "\n",
       "    .dataframe thead th {\n",
       "        text-align: right;\n",
       "    }\n",
       "</style>\n",
       "<table border=\"1\" class=\"dataframe\">\n",
       "  <thead>\n",
       "    <tr style=\"text-align: right;\">\n",
       "      <th></th>\n",
       "      <th>STATION</th>\n",
       "      <th>NAME</th>\n",
       "      <th>LATITUDE</th>\n",
       "      <th>LONGITUDE</th>\n",
       "      <th>ELEVATION</th>\n",
       "      <th>DATE</th>\n",
       "      <th>CDSD</th>\n",
       "      <th>CDSD_ATTRIBUTES</th>\n",
       "      <th>CLDD</th>\n",
       "      <th>CLDD_ATTRIBUTES</th>\n",
       "      <th>...</th>\n",
       "      <th>PRCP_ATTRIBUTES</th>\n",
       "      <th>TAVG</th>\n",
       "      <th>TAVG_ATTRIBUTES</th>\n",
       "      <th>TMAX</th>\n",
       "      <th>TMAX_ATTRIBUTES</th>\n",
       "      <th>TMIN</th>\n",
       "      <th>TMIN_ATTRIBUTES</th>\n",
       "      <th>Source_Station_ID</th>\n",
       "      <th>Source_Country_Name</th>\n",
       "      <th>Source_Station_Name</th>\n",
       "    </tr>\n",
       "  </thead>\n",
       "  <tbody>\n",
       "    <tr>\n",
       "      <th>0</th>\n",
       "      <td>TS000060765</td>\n",
       "      <td>GABES, TS</td>\n",
       "      <td>33.88</td>\n",
       "      <td>10.1</td>\n",
       "      <td>4.0</td>\n",
       "      <td>1887</td>\n",
       "      <td>NaN</td>\n",
       "      <td>NaN</td>\n",
       "      <td>NaN</td>\n",
       "      <td>NaN</td>\n",
       "      <td>...</td>\n",
       "      <td>,E</td>\n",
       "      <td>NaN</td>\n",
       "      <td>NaN</td>\n",
       "      <td>NaN</td>\n",
       "      <td>NaN</td>\n",
       "      <td>12.2</td>\n",
       "      <td>E</td>\n",
       "      <td>TS000060765</td>\n",
       "      <td>Tunisia</td>\n",
       "      <td>GABES</td>\n",
       "    </tr>\n",
       "    <tr>\n",
       "      <th>1</th>\n",
       "      <td>TS000060765</td>\n",
       "      <td>GABES, TS</td>\n",
       "      <td>33.88</td>\n",
       "      <td>10.1</td>\n",
       "      <td>4.0</td>\n",
       "      <td>1889</td>\n",
       "      <td>NaN</td>\n",
       "      <td>NaN</td>\n",
       "      <td>NaN</td>\n",
       "      <td>NaN</td>\n",
       "      <td>...</td>\n",
       "      <td>NaN</td>\n",
       "      <td>NaN</td>\n",
       "      <td>NaN</td>\n",
       "      <td>NaN</td>\n",
       "      <td>NaN</td>\n",
       "      <td>13.7</td>\n",
       "      <td>E</td>\n",
       "      <td>TS000060765</td>\n",
       "      <td>Tunisia</td>\n",
       "      <td>GABES</td>\n",
       "    </tr>\n",
       "    <tr>\n",
       "      <th>2</th>\n",
       "      <td>TS000060765</td>\n",
       "      <td>GABES, TS</td>\n",
       "      <td>33.88</td>\n",
       "      <td>10.1</td>\n",
       "      <td>4.0</td>\n",
       "      <td>1907</td>\n",
       "      <td>NaN</td>\n",
       "      <td>NaN</td>\n",
       "      <td>NaN</td>\n",
       "      <td>NaN</td>\n",
       "      <td>...</td>\n",
       "      <td>,E</td>\n",
       "      <td>NaN</td>\n",
       "      <td>NaN</td>\n",
       "      <td>NaN</td>\n",
       "      <td>NaN</td>\n",
       "      <td>NaN</td>\n",
       "      <td>NaN</td>\n",
       "      <td>TS000060765</td>\n",
       "      <td>Tunisia</td>\n",
       "      <td>GABES</td>\n",
       "    </tr>\n",
       "  </tbody>\n",
       "</table>\n",
       "<p>3 rows × 51 columns</p>\n",
       "</div>"
      ],
      "text/plain": [
       "       STATION       NAME  LATITUDE  LONGITUDE  ELEVATION  DATE  CDSD  \\\n",
       "0  TS000060765  GABES, TS     33.88       10.1        4.0  1887   NaN   \n",
       "1  TS000060765  GABES, TS     33.88       10.1        4.0  1889   NaN   \n",
       "2  TS000060765  GABES, TS     33.88       10.1        4.0  1907   NaN   \n",
       "\n",
       "   CDSD_ATTRIBUTES  CLDD CLDD_ATTRIBUTES  ...  PRCP_ATTRIBUTES TAVG  \\\n",
       "0              NaN   NaN             NaN  ...               ,E  NaN   \n",
       "1              NaN   NaN             NaN  ...              NaN  NaN   \n",
       "2              NaN   NaN             NaN  ...               ,E  NaN   \n",
       "\n",
       "   TAVG_ATTRIBUTES TMAX  TMAX_ATTRIBUTES  TMIN  TMIN_ATTRIBUTES  \\\n",
       "0              NaN  NaN              NaN  12.2                E   \n",
       "1              NaN  NaN              NaN  13.7                E   \n",
       "2              NaN  NaN              NaN   NaN              NaN   \n",
       "\n",
       "  Source_Station_ID  Source_Country_Name Source_Station_Name  \n",
       "0       TS000060765              Tunisia               GABES  \n",
       "1       TS000060765              Tunisia               GABES  \n",
       "2       TS000060765              Tunisia               GABES  \n",
       "\n",
       "[3 rows x 51 columns]"
      ]
     },
     "execution_count": 14,
     "metadata": {},
     "output_type": "execute_result"
    }
   ],
   "source": [
    "# 1. Load the CSV file\n",
    "file_path = 'data/processed/unified_countries.csv'\n",
    "\n",
    "df = pd.read_csv(f'{basePath}/{file_path}')\n",
    "df.head(3)"
   ]
  },
  {
   "cell_type": "code",
   "execution_count": 15,
   "metadata": {
    "executionInfo": {
     "elapsed": 108,
     "status": "ok",
     "timestamp": 1753062219891,
     "user": {
      "displayName": "Logical",
      "userId": "15752721728629510545"
     },
     "user_tz": 300
    },
    "id": "DgKkD_RzhNLJ"
   },
   "outputs": [],
   "source": [
    "# 3. Remove duplicate columns\n",
    "df = df.loc[:, ~df.columns.duplicated()]"
   ]
  },
  {
   "cell_type": "code",
   "execution_count": 16,
   "metadata": {
    "executionInfo": {
     "elapsed": 55,
     "status": "ok",
     "timestamp": 1753062219896,
     "user": {
      "displayName": "Logical",
      "userId": "15752721728629510545"
     },
     "user_tz": 300
    },
    "id": "bj8kOsozhNNh"
   },
   "outputs": [],
   "source": [
    "# 4. Convert applicable columns to numeric (safely)\n",
    "# Skip non-numeric columns like 'STATION', 'NAME', 'DATE', 'Source_*'\n",
    "non_numeric_cols = ['STATION', 'NAME', 'DATE', 'Source_Station_ID', 'Source_Country_Name', 'Source_Station_Name']\n",
    "numeric_cols = [col for col in df.columns if col not in non_numeric_cols]"
   ]
  },
  {
   "cell_type": "code",
   "execution_count": 17,
   "metadata": {
    "executionInfo": {
     "elapsed": 523,
     "status": "ok",
     "timestamp": 1753062220399,
     "user": {
      "displayName": "Logical",
      "userId": "15752721728629510545"
     },
     "user_tz": 300
    },
    "id": "uPHHBBY9hNQj"
   },
   "outputs": [],
   "source": [
    "# Convert with errors='coerce' to handle any invalid strings\n",
    "df[numeric_cols] = df[numeric_cols].apply(pd.to_numeric, errors='coerce')"
   ]
  },
  {
   "cell_type": "code",
   "execution_count": 18,
   "metadata": {
    "executionInfo": {
     "elapsed": 51,
     "status": "ok",
     "timestamp": 1753062220446,
     "user": {
      "displayName": "Logical",
      "userId": "15752721728629510545"
     },
     "user_tz": 300
    },
    "id": "uC8BLA-YhNTJ"
   },
   "outputs": [],
   "source": [
    "# 5. Rearrange columns for better structure\n",
    "reordered_cols = (\n",
    "    ['Source_Country_Name', 'Source_Station_ID', 'Source_Station_Name',\n",
    "     'STATION', 'NAME', 'DATE', 'LATITUDE', 'LONGITUDE', 'ELEVATION']\n",
    "    + sorted([col for col in df.columns if col not in [\n",
    "        'Source_Country_Name', 'Source_Station_ID', 'Source_Station_Name',\n",
    "        'STATION', 'NAME', 'DATE', 'LATITUDE', 'LONGITUDE', 'ELEVATION']])\n",
    ")\n",
    "df = df[reordered_cols]"
   ]
  },
  {
   "cell_type": "code",
   "execution_count": 19,
   "metadata": {
    "colab": {
     "base_uri": "https://localhost:8080/",
     "height": 245
    },
    "executionInfo": {
     "elapsed": 21,
     "status": "ok",
     "timestamp": 1753062220503,
     "user": {
      "displayName": "Logical",
      "userId": "15752721728629510545"
     },
     "user_tz": 300
    },
    "id": "Y2qZgDpBo7da",
    "outputId": "5d4bcb3e-08e6-4d8f-b3a8-62528575d500"
   },
   "outputs": [
    {
     "data": {
      "text/html": [
       "<div>\n",
       "<style scoped>\n",
       "    .dataframe tbody tr th:only-of-type {\n",
       "        vertical-align: middle;\n",
       "    }\n",
       "\n",
       "    .dataframe tbody tr th {\n",
       "        vertical-align: top;\n",
       "    }\n",
       "\n",
       "    .dataframe thead th {\n",
       "        text-align: right;\n",
       "    }\n",
       "</style>\n",
       "<table border=\"1\" class=\"dataframe\">\n",
       "  <thead>\n",
       "    <tr style=\"text-align: right;\">\n",
       "      <th></th>\n",
       "      <th>Source_Country_Name</th>\n",
       "      <th>Source_Station_ID</th>\n",
       "      <th>Source_Station_Name</th>\n",
       "      <th>STATION</th>\n",
       "      <th>NAME</th>\n",
       "      <th>DATE</th>\n",
       "      <th>LATITUDE</th>\n",
       "      <th>LONGITUDE</th>\n",
       "      <th>ELEVATION</th>\n",
       "      <th>CDSD</th>\n",
       "      <th>...</th>\n",
       "      <th>HTDD</th>\n",
       "      <th>HTDD_ATTRIBUTES</th>\n",
       "      <th>PRCP</th>\n",
       "      <th>PRCP_ATTRIBUTES</th>\n",
       "      <th>TAVG</th>\n",
       "      <th>TAVG_ATTRIBUTES</th>\n",
       "      <th>TMAX</th>\n",
       "      <th>TMAX_ATTRIBUTES</th>\n",
       "      <th>TMIN</th>\n",
       "      <th>TMIN_ATTRIBUTES</th>\n",
       "    </tr>\n",
       "  </thead>\n",
       "  <tbody>\n",
       "    <tr>\n",
       "      <th>0</th>\n",
       "      <td>Tunisia</td>\n",
       "      <td>TS000060765</td>\n",
       "      <td>GABES</td>\n",
       "      <td>TS000060765</td>\n",
       "      <td>GABES, TS</td>\n",
       "      <td>1887</td>\n",
       "      <td>33.88</td>\n",
       "      <td>10.1</td>\n",
       "      <td>4.0</td>\n",
       "      <td>NaN</td>\n",
       "      <td>...</td>\n",
       "      <td>NaN</td>\n",
       "      <td>NaN</td>\n",
       "      <td>134.7</td>\n",
       "      <td>NaN</td>\n",
       "      <td>NaN</td>\n",
       "      <td>NaN</td>\n",
       "      <td>NaN</td>\n",
       "      <td>NaN</td>\n",
       "      <td>12.2</td>\n",
       "      <td>NaN</td>\n",
       "    </tr>\n",
       "    <tr>\n",
       "      <th>1</th>\n",
       "      <td>Tunisia</td>\n",
       "      <td>TS000060765</td>\n",
       "      <td>GABES</td>\n",
       "      <td>TS000060765</td>\n",
       "      <td>GABES, TS</td>\n",
       "      <td>1889</td>\n",
       "      <td>33.88</td>\n",
       "      <td>10.1</td>\n",
       "      <td>4.0</td>\n",
       "      <td>NaN</td>\n",
       "      <td>...</td>\n",
       "      <td>NaN</td>\n",
       "      <td>NaN</td>\n",
       "      <td>NaN</td>\n",
       "      <td>NaN</td>\n",
       "      <td>NaN</td>\n",
       "      <td>NaN</td>\n",
       "      <td>NaN</td>\n",
       "      <td>NaN</td>\n",
       "      <td>13.7</td>\n",
       "      <td>NaN</td>\n",
       "    </tr>\n",
       "    <tr>\n",
       "      <th>2</th>\n",
       "      <td>Tunisia</td>\n",
       "      <td>TS000060765</td>\n",
       "      <td>GABES</td>\n",
       "      <td>TS000060765</td>\n",
       "      <td>GABES, TS</td>\n",
       "      <td>1907</td>\n",
       "      <td>33.88</td>\n",
       "      <td>10.1</td>\n",
       "      <td>4.0</td>\n",
       "      <td>NaN</td>\n",
       "      <td>...</td>\n",
       "      <td>NaN</td>\n",
       "      <td>NaN</td>\n",
       "      <td>109.0</td>\n",
       "      <td>NaN</td>\n",
       "      <td>NaN</td>\n",
       "      <td>NaN</td>\n",
       "      <td>NaN</td>\n",
       "      <td>NaN</td>\n",
       "      <td>NaN</td>\n",
       "      <td>NaN</td>\n",
       "    </tr>\n",
       "  </tbody>\n",
       "</table>\n",
       "<p>3 rows × 51 columns</p>\n",
       "</div>"
      ],
      "text/plain": [
       "  Source_Country_Name Source_Station_ID Source_Station_Name      STATION  \\\n",
       "0             Tunisia       TS000060765               GABES  TS000060765   \n",
       "1             Tunisia       TS000060765               GABES  TS000060765   \n",
       "2             Tunisia       TS000060765               GABES  TS000060765   \n",
       "\n",
       "        NAME  DATE  LATITUDE  LONGITUDE  ELEVATION  CDSD  ...  HTDD  \\\n",
       "0  GABES, TS  1887     33.88       10.1        4.0   NaN  ...   NaN   \n",
       "1  GABES, TS  1889     33.88       10.1        4.0   NaN  ...   NaN   \n",
       "2  GABES, TS  1907     33.88       10.1        4.0   NaN  ...   NaN   \n",
       "\n",
       "   HTDD_ATTRIBUTES   PRCP  PRCP_ATTRIBUTES  TAVG  TAVG_ATTRIBUTES  TMAX  \\\n",
       "0              NaN  134.7              NaN   NaN              NaN   NaN   \n",
       "1              NaN    NaN              NaN   NaN              NaN   NaN   \n",
       "2              NaN  109.0              NaN   NaN              NaN   NaN   \n",
       "\n",
       "   TMAX_ATTRIBUTES  TMIN  TMIN_ATTRIBUTES  \n",
       "0              NaN  12.2              NaN  \n",
       "1              NaN  13.7              NaN  \n",
       "2              NaN   NaN              NaN  \n",
       "\n",
       "[3 rows x 51 columns]"
      ]
     },
     "execution_count": 19,
     "metadata": {},
     "output_type": "execute_result"
    }
   ],
   "source": [
    "df.head(3)"
   ]
  },
  {
   "cell_type": "code",
   "execution_count": 20,
   "metadata": {
    "executionInfo": {
     "elapsed": 125,
     "status": "ok",
     "timestamp": 1753062220642,
     "user": {
      "displayName": "Logical",
      "userId": "15752721728629510545"
     },
     "user_tz": 300
    },
    "id": "DTeOgShVhNVu"
   },
   "outputs": [],
   "source": [
    "# Renaming for clarity first\n",
    "df = df.rename(columns={\n",
    "    'Source_Country_Name': 'COUNTRY',\n",
    "    'NAME': 'STATION_NAME'\n",
    "})\n",
    "\n",
    "df = df.drop(columns=['Source_Station_ID', 'Source_Station_Name'])"
   ]
  },
  {
   "cell_type": "code",
   "execution_count": 21,
   "metadata": {
    "executionInfo": {
     "elapsed": 9,
     "status": "ok",
     "timestamp": 1753062220663,
     "user": {
      "displayName": "Logical",
      "userId": "15752721728629510545"
     },
     "user_tz": 300
    },
    "id": "EreX0RxKhNYB"
   },
   "outputs": [],
   "source": [
    "# 2. Remove columns with more than 80% missing values\n",
    "threshold = 0.8\n",
    "missing_ratio = df.isnull().mean()\n",
    "df = df.loc[:, missing_ratio <= threshold]"
   ]
  },
  {
   "cell_type": "code",
   "execution_count": 22,
   "metadata": {
    "colab": {
     "base_uri": "https://localhost:8080/"
    },
    "executionInfo": {
     "elapsed": 1058,
     "status": "ok",
     "timestamp": 1753062221732,
     "user": {
      "displayName": "Logical",
      "userId": "15752721728629510545"
     },
     "user_tz": 300
    },
    "id": "GSSdWhGmhNaT",
    "outputId": "8d6386f5-9c6e-4368-e689-ee9951ce8b30"
   },
   "outputs": [
    {
     "name": "stdout",
     "output_type": "stream",
     "text": [
      "Cleaning complete. Saved as 'data/processed/cleaned_data1.csv'\n"
     ]
    }
   ],
   "source": [
    "# 6. Save cleaned data\n",
    "output_path = 'data/processed/cleaned_data1.csv'\n",
    "\n",
    "df.to_csv(f'{basePath}/{output_path}', index=False)\n",
    "\n",
    "print(f\"Cleaning complete. Saved as '{output_path}'\")"
   ]
  }
 ],
 "metadata": {
  "colab": {
   "authorship_tag": "ABX9TyMWaRMr1yOkhgU6n8q+gDT0",
   "provenance": []
  },
  "kernelspec": {
   "display_name": ".venv",
   "language": "python",
   "name": "python3"
  },
  "language_info": {
   "codemirror_mode": {
    "name": "ipython",
    "version": 3
   },
   "file_extension": ".py",
   "mimetype": "text/x-python",
   "name": "python",
   "nbconvert_exporter": "python",
   "pygments_lexer": "ipython3",
   "version": "3.12.3"
  }
 },
 "nbformat": 4,
 "nbformat_minor": 0
}
